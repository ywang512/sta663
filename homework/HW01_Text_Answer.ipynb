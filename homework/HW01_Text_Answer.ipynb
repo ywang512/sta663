{
 "cells": [
  {
   "cell_type": "markdown",
   "metadata": {},
   "source": [
    "# Homework 01:  Working with text"
   ]
  },
  {
   "cell_type": "markdown",
   "metadata": {},
   "source": [
    "Questions 1-6 use the text in the variable `sentences`."
   ]
  },
  {
   "cell_type": "markdown",
   "metadata": {},
   "source": [
    "`string` and `re` are imported for yoy. You should not use any ohter imports for this exercise."
   ]
  },
  {
   "cell_type": "code",
   "execution_count": 1,
   "metadata": {},
   "outputs": [],
   "source": [
    "import string\n",
    "import re"
   ]
  },
  {
   "cell_type": "code",
   "execution_count": 2,
   "metadata": {},
   "outputs": [],
   "source": [
    "sentences = \"\"\"\n",
    "Eva, Can I Stab Bats In A Cave?\n",
    "This is not a palindrome.\n",
    "Madam In Eden, I'm Adam\n",
    "Neither is this.\n",
    "Mr. Owl Ate My Metal Worm\n",
    "Do you think this is a palindrome?\n",
    "Never Odd Or Even\n",
    "Ouch! That hurts!!\n",
    "Doc, Note: I Dissent. A Fast Never Prevents A Fatness. I Diet On Cod.\n",
    "Pythons eat rats.\n",
    "\"\"\""
   ]
  },
  {
   "cell_type": "markdown",
   "metadata": {},
   "source": [
    "**1**. (10 points)\n",
    "\n",
    "- Write a function to identify palindromes. It should ignore spaces, punctuation and capitalization. "
   ]
  },
  {
   "cell_type": "code",
   "execution_count": 3,
   "metadata": {},
   "outputs": [
    {
     "name": "stdout",
     "output_type": "stream",
     "text": [
      "palindrome in the sentences:\n",
      " ['evacanistabbatsinacave', 'madaminedenimadam', 'mrowlatemymetalworm', 'neveroddoreven', 'docnoteidissentafastneverpreventsafatnessidietoncod']\n",
      "\n",
      "1 Eva, Can I Stab Bats In A Cave?\n",
      "3 Madam In Eden, I'm Adam\n",
      "5 Mr. Owl Ate My Metal Worm\n",
      "7 Never Odd Or Even\n",
      "9 Doc, Note: I Dissent. A Fast Never Prevents A Fatness. I Diet On Cod.\n"
     ]
    }
   ],
   "source": [
    "def identify_palindrome(sen):\n",
    "    clean = ''.join(sen.split(' ')).translate(str.maketrans('','',string.punctuation)).lower().split('\\n')\n",
    "    palindrome = []\n",
    "    pos = []\n",
    "    for i, sen in enumerate(clean):\n",
    "        if sen == '':\n",
    "            continue\n",
    "        elif sen == sen[::-1]:\n",
    "            palindrome.append(sen)\n",
    "            pos.append(i)\n",
    "    raw = sen.split('\\n')\n",
    "    \n",
    "    return palindrome, pos\n",
    "palindrome, pos = identify_palindrome(sentences)\n",
    "print('palindrome in the sentences:\\n', palindrome, end = '\\n\\n')\n",
    "\n",
    "for row, sen in enumerate(sentences.split('\\n')):\n",
    "    if row in pos:\n",
    "        print(row, sen)"
   ]
  },
  {
   "cell_type": "markdown",
   "metadata": {},
   "source": [
    "**2**. (10 points)\n",
    "\n",
    "Convert the given sentences into a list, and find the palindromes using\n",
    "\n",
    "- a for loop\n",
    "- a list comprehension\n",
    "- the `filter` higher order function"
   ]
  },
  {
   "cell_type": "code",
   "execution_count": 4,
   "metadata": {},
   "outputs": [
    {
     "data": {
      "text/plain": [
       "['',\n",
       " 'evacanistabbatsinacave',\n",
       " 'madaminedenimadam',\n",
       " 'mrowlatemymetalworm',\n",
       " 'neveroddoreven',\n",
       " 'docnoteidissentafastneverpreventsafatnessidietoncod',\n",
       " '']"
      ]
     },
     "execution_count": 4,
     "metadata": {},
     "output_type": "execute_result"
    }
   ],
   "source": [
    "sen_list = sentences.split('\\n')\n",
    "clean = ''.join(sentences.split(' ')).translate(str.maketrans('','',string.punctuation)).lower().split('\\n')\n",
    "\n",
    "palindrome2 = [sen for sen in clean if sen == sen[::-1]]\n",
    "palindrome2"
   ]
  },
  {
   "cell_type": "markdown",
   "metadata": {},
   "source": [
    "**3**. (10 points)\n",
    "\n",
    "Sort the same sentences in decreasing order of the number of vowels they contain."
   ]
  },
  {
   "cell_type": "code",
   "execution_count": 5,
   "metadata": {},
   "outputs": [
    {
     "data": {
      "text/plain": [
       "['',\n",
       " '',\n",
       " 'Ouch! That hurts!!',\n",
       " 'Pythons eat rats.',\n",
       " 'Neither is this.',\n",
       " 'Mr. Owl Ate My Metal Worm',\n",
       " 'Never Odd Or Even',\n",
       " \"Madam In Eden, I'm Adam\",\n",
       " 'This is not a palindrome.',\n",
       " 'Eva, Can I Stab Bats In A Cave?',\n",
       " 'Do you think this is a palindrome?',\n",
       " 'Doc, Note: I Dissent. A Fast Never Prevents A Fatness. I Diet On Cod.']"
      ]
     },
     "execution_count": 5,
     "metadata": {},
     "output_type": "execute_result"
    }
   ],
   "source": [
    "num_vowels = []\n",
    "for sen in sen_list:\n",
    "    cur_vowels = re.findall(r'[aeiouAEIOU]', sen)\n",
    "    num_vowels.append(len(cur_vowels))\n",
    "num_vowels\n",
    "\n",
    "[x for _, x in sorted(zip(num_vowels, sen_list))]"
   ]
  },
  {
   "cell_type": "markdown",
   "metadata": {},
   "source": [
    "**4**. (10 points) \n",
    "\n",
    "Count the number of times each word occurs in the `sentences` variable. Ignore punctuation and capitalization. Show the top 3 words together with their counts."
   ]
  },
  {
   "cell_type": "code",
   "execution_count": 6,
   "metadata": {},
   "outputs": [
    {
     "name": "stdout",
     "output_type": "stream",
     "text": [
      "a \t 23\n",
      "i \t 18\n",
      "is \t 7\n"
     ]
    }
   ],
   "source": [
    "words_sen = sentences.translate(str.maketrans('','',string.punctuation)).lower()\n",
    "words = re.split(r'[ \\n]', words_sen)\n",
    "\n",
    "dictionary = dict()\n",
    "for word in set(words):\n",
    "    if word != '':\n",
    "        dictionary[word] = len(re.findall(word, words_sen))\n",
    "\n",
    "\n",
    "\n",
    "t = sorted(dictionary, key = lambda x: dictionary[x], reverse = True)\n",
    "count = 0\n",
    "for i in t:\n",
    "    print(i, \"\\t\", dictionary[i])\n",
    "    count += 1\n",
    "    if count == 3:\n",
    "        break"
   ]
  },
  {
   "cell_type": "markdown",
   "metadata": {},
   "source": [
    "**5**. (10 points)\n",
    "\n",
    "Convert the variable sentences into a string with no spaces or punctuation and all in lower case. Now find the most commonly occurring pair of characters (the character pairs in `abcde` are `ab`, `bc`, `cd`, `de`)."
   ]
  },
  {
   "cell_type": "code",
   "execution_count": 7,
   "metadata": {},
   "outputs": [
    {
     "name": "stdout",
     "output_type": "stream",
     "text": [
      "is \t 8\n"
     ]
    }
   ],
   "source": [
    "long_sen = ''.join(clean)\n",
    "l_sen = long_sen[:-1]\n",
    "r_sen = long_sen[1:]\n",
    "\n",
    "char_pairs = dict()\n",
    "for (b, f) in zip(list(l_sen), list(r_sen)):\n",
    "    temp_char = b + f\n",
    "    if temp_char in char_pairs:\n",
    "        char_pairs[temp_char] += 1\n",
    "    else:\n",
    "        char_pairs[temp_char] = 1\n",
    "\n",
    "p = sorted(char_pairs, key = lambda x: char_pairs[x], reverse = True)\n",
    "print(p[0], \"\\t\", char_pairs[p[0]])"
   ]
  },
  {
   "cell_type": "markdown",
   "metadata": {},
   "source": [
    "**6**. (10 points)\n",
    "\n",
    "- Save the palindromes found in **1** to a file `data/palindromes.txt` with each palindrome in its own line.\n",
    "- Read the file `data/palindromes.txt` and display the lines formatted so that\n",
    "    - the longest line is printed as is\n",
    "    - all other lines are right-aligned to the longest line"
   ]
  },
  {
   "cell_type": "code",
   "execution_count": 8,
   "metadata": {},
   "outputs": [
    {
     "name": "stdout",
     "output_type": "stream",
     "text": [
      "                             evacanistabbatsinacave\n",
      "                                  madaminedenimadam\n",
      "                                mrowlatemymetalworm\n",
      "                                     neveroddoreven\n",
      "docnoteidissentafastneverpreventsafatnessidietoncod\n"
     ]
    }
   ],
   "source": [
    "palindrome, pos = identify_palindrome(sentences)\n",
    "with open(\"./data/palindromes.txt\", 'w') as f:\n",
    "    for line in palindrome:\n",
    "        f.write(line)\n",
    "        f.write('\\n')\n",
    "        \n",
    "temp_p = []\n",
    "temp_len = []\n",
    "with open(\"./data/palindromes.txt\", 'r') as f:\n",
    "    for line in f:\n",
    "        temp_p.append(line.strip())\n",
    "        temp_len.append(len(line.strip()))\n",
    "        \n",
    "max_align = max(temp_len)\n",
    "\n",
    "for sen in temp_p:\n",
    "    print(sen.rjust(max_align))"
   ]
  },
  {
   "cell_type": "markdown",
   "metadata": {},
   "source": [
    "**7**. (20 points)\n",
    "\n",
    "- Write a function called `encode` that uses the simple Caesar cipher with offset of $k$. A Caesar cipher moves a character $k$ positions forward with wraparound - an offset of 2 would give `a -> c, b -> d, ..., y -> a, z -> b`. \n",
    "\n",
    "The encoder should preserve punctuation, spaces and the case of the characters as in the example below for an offset of 13.\n",
    "\n",
    "```\n",
    "(original) Why did the chicken cross the road?\n",
    "(encoded) Jul qvq gur puvpxra pebff gur ebnq?\n",
    "```\n",
    "\n",
    "Write a function to encode and decode text using a Caesar cipher with an offset of 5 and test it on the `Why did the chicken cross the road?`"
   ]
  },
  {
   "cell_type": "code",
   "execution_count": 9,
   "metadata": {},
   "outputs": [
    {
     "name": "stdout",
     "output_type": "stream",
     "text": [
      "Why did the chicken cross the road?\n",
      "Bmd ini ymj hmnhpjs hwtxx ymj wtfi?\n",
      "Why did the chicken cross the road?\n"
     ]
    }
   ],
   "source": [
    "def encode(s, k):\n",
    "    ori_l = 'abcdefghijklmnopqrstuvwxyz'\n",
    "    ori_u = ori_l.upper()\n",
    "    ori_l2 = ori_l * 2\n",
    "    ori_u2 = ori_l2.upper()\n",
    "    tar_l = ori_l2[k:(26+k)]\n",
    "    tar_u = ori_u2[k:(26+k)]\n",
    "    return s.translate(str.maketrans(ori_l+ori_u, tar_l+tar_u))\n",
    "\n",
    "def decode(s, k):\n",
    "    ori_l = 'abcdefghijklmnopqrstuvwxyz'\n",
    "    ori_u = ori_l.upper()\n",
    "    ori_l2 = ori_l * 2\n",
    "    ori_u2 = ori_l2.upper()\n",
    "    tar_l = ori_l2[(26-k):(52-k)]\n",
    "    tar_u = ori_u2[(26-k):(52-k)]\n",
    "    return s.translate(str.maketrans(ori_l+ori_u, tar_l+tar_u))\n",
    "\n",
    "\n",
    "test = 'Why did the chicken cross the road?'\n",
    "test_en = encode(test, 5)\n",
    "test_de = decode(test_en, 5)\n",
    "print(test)\n",
    "print(test_en)\n",
    "print(test_de)"
   ]
  },
  {
   "cell_type": "markdown",
   "metadata": {},
   "source": [
    "**8**. (20 points)\n",
    "\n",
    "A one-time pad is the same as a Caesar cipher, except that each character is given a random offset (the pad contains a list of offsets). Without the pad, the cipher is unbreakable. Write a function to encode and decode using the one-time pad of offsets provided in `data/pad.txt`. As usual, the encoder should ignore punctuation and spaces but preserve the case of the characters."
   ]
  },
  {
   "cell_type": "code",
   "execution_count": 10,
   "metadata": {},
   "outputs": [
    {
     "name": "stdout",
     "output_type": "stream",
     "text": [
      "Why did the chicken cross the road?\n",
      "Hza irh bvp wxniqii xgyzj jcj hnln?\n",
      "Why did the chicken cross the road?\n"
     ]
    }
   ],
   "source": [
    "pad = []\n",
    "with open(\"data/pad.txt\", 'r') as f:\n",
    "    for line in f:\n",
    "        pad.append(int(line.strip()))\n",
    "\n",
    "def one_pad_encode(s, pad):\n",
    "    output = ''\n",
    "    for cha, p in zip(s, pad):\n",
    "        char = ord(cha)\n",
    "        if char <= 122 and char >= 97:\n",
    "            temp = chr((char-97+p)%26+97)\n",
    "        elif char <= 90 and char >= 65:\n",
    "            temp = chr((char-65+p)%26+65)\n",
    "        else:\n",
    "            temp = cha\n",
    "        output += temp\n",
    "    return output\n",
    "\n",
    "def one_pad_decode(s, pad):\n",
    "    output = ''\n",
    "    for cha, p in zip(s, pad):\n",
    "        char = ord(cha)\n",
    "        if char <= 122 and char >= 97:\n",
    "            temp = chr((char-97+26-p)%26+97)\n",
    "        elif char <= 90 and char >= 65:\n",
    "            temp = chr((char-65+26-p)%26+65)\n",
    "        else:\n",
    "            temp = cha\n",
    "        output += temp\n",
    "    return output\n",
    "\n",
    "test = 'Why did the chicken cross the road?'\n",
    "test_en = one_pad_encode(test, pad)\n",
    "test_de = one_pad_decode(test_en, pad)\n",
    "print(test)\n",
    "print(test_en)\n",
    "print(test_de)"
   ]
  }
 ],
 "metadata": {
  "kernelspec": {
   "display_name": "Python 3",
   "language": "python",
   "name": "python3"
  },
  "language_info": {
   "codemirror_mode": {
    "name": "ipython",
    "version": 3
   },
   "file_extension": ".py",
   "mimetype": "text/x-python",
   "name": "python",
   "nbconvert_exporter": "python",
   "pygments_lexer": "ipython3",
   "version": "3.7.2"
  }
 },
 "nbformat": 4,
 "nbformat_minor": 2
}
