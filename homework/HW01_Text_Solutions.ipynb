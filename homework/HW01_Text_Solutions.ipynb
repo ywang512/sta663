{
 "cells": [
  {
   "cell_type": "markdown",
   "metadata": {},
   "source": [
    "# Homework 01:  Working with text"
   ]
  },
  {
   "cell_type": "markdown",
   "metadata": {},
   "source": [
    "Questions 1-6 use the text in the variable `sentences`."
   ]
  },
  {
   "cell_type": "code",
   "execution_count": null,
   "metadata": {},
   "outputs": [],
   "source": [
    "`string` and `re` are imported for yoy. You should not use any ohter imports for this exercise."
   ]
  },
  {
   "cell_type": "code",
   "execution_count": null,
   "metadata": {},
   "outputs": [],
   "source": [
    "import string\n",
    "import re"
   ]
  },
  {
   "cell_type": "code",
   "execution_count": null,
   "metadata": {},
   "outputs": [],
   "source": [
    "sentences = \"\"\"\n",
    "Eva, Can I Stab Bats In A Cave?\n",
    "This is not a palindrome.\n",
    "Madam In Eden, I'm Adam\n",
    "Neither is this.\n",
    "Mr. Owl Ate My Metal Worm\n",
    "Do you think this is a palindrome?\n",
    "Never Odd Or Even\n",
    "Ouch! That hurts!!\n",
    "Doc, Note: I Dissent. A Fast Never Prevents A Fatness. I Diet On Cod.\n",
    "Pythons eat rats.\n",
    "\"\"\""
   ]
  },
  {
   "cell_type": "markdown",
   "metadata": {},
   "source": [
    "**1**. (10 points)\n",
    "\n",
    "- Write a function to identify palindromes. It should ignore spaces, punctuation and capitalization. "
   ]
  },
  {
   "cell_type": "code",
   "execution_count": null,
   "metadata": {},
   "outputs": [],
   "source": [
    "import string\n",
    "import re"
   ]
  },
  {
   "cell_type": "code",
   "execution_count": null,
   "metadata": {},
   "outputs": [],
   "source": [
    "def clean(s):\n",
    "    \"\"\"Removes space, punctuation and capitalization.\"\"\"\n",
    "    \n",
    "    s = ''.join(s.split()).lower()\n",
    "    s = s.translate(str.maketrans('', '', string.punctuation))\n",
    "    return s\n",
    "    \n",
    "def is_palindrome(s):\n",
    "    \"\"\"Returns True if s is a palindrome and False ohterwsie.\"\"\"\n",
    "    \n",
    "    s = clean(s)\n",
    "    return s == s[::-1]"
   ]
  },
  {
   "cell_type": "markdown",
   "metadata": {},
   "source": [
    "**2**. (10 points)\n",
    "\n",
    "Convert the given sentences into a list, and find the palindromes using\n",
    "\n",
    "- a for loop\n",
    "- a list comprehension\n",
    "- the `filter` higher order function"
   ]
  },
  {
   "cell_type": "code",
   "execution_count": null,
   "metadata": {},
   "outputs": [],
   "source": [
    "ss = sentences.strip().splitlines()"
   ]
  },
  {
   "cell_type": "code",
   "execution_count": null,
   "metadata": {},
   "outputs": [],
   "source": [
    "s1 = []\n",
    "for s in ss:\n",
    "    if is_palindrome(s):\n",
    "        s1.append(s)\n",
    "s1"
   ]
  },
  {
   "cell_type": "code",
   "execution_count": null,
   "metadata": {},
   "outputs": [],
   "source": [
    "s2 = [s for s in ss if is_palindrome(s)]\n",
    "s2"
   ]
  },
  {
   "cell_type": "code",
   "execution_count": null,
   "metadata": {},
   "outputs": [],
   "source": [
    "s3 = list(filter(is_palindrome, ss))\n",
    "s3"
   ]
  },
  {
   "cell_type": "markdown",
   "metadata": {},
   "source": [
    "**3**. (10 points)\n",
    "\n",
    "Sort the same sentences in decreasing order of the number of vowels they contain."
   ]
  },
  {
   "cell_type": "code",
   "execution_count": null,
   "metadata": {},
   "outputs": [],
   "source": [
    "def vowel_count(s):\n",
    "    return len(re.findall('[aeiou]', s))\n",
    "\n",
    "sorted(ss, key=vowel_count, reverse=True)"
   ]
  },
  {
   "cell_type": "markdown",
   "metadata": {},
   "source": [
    "**4**. (10 points) \n",
    "\n",
    "Count the number of times each word occurs in the `sentences` variable. Ignore punctuation and capitalization. Show the top 3 words together with their counts."
   ]
  },
  {
   "cell_type": "code",
   "execution_count": null,
   "metadata": {},
   "outputs": [],
   "source": [
    "s_clean = sentences.translate(str.maketrans('', '', string.punctuation)).lower().strip()\n",
    "words = s_clean.split()\n",
    "\n",
    "word_count = {}\n",
    "for word in words:\n",
    "    word_count[word] = word_count.get(word, 0) + 1\n",
    "\n",
    "sorted(word_count.items(), key= lambda x: x[1], reverse=True)[:3]"
   ]
  },
  {
   "cell_type": "markdown",
   "metadata": {},
   "source": [
    "**5**. (10 points)\n",
    "\n",
    "Convert the variable sentences into a string with no spaces or punctuation and all in lower case. Now find the most commonly occurring pair of characters (the character pairs in `abcde` are `ab`, `bc`, `cd`, `de`)."
   ]
  },
  {
   "cell_type": "code",
   "execution_count": null,
   "metadata": {},
   "outputs": [],
   "source": [
    "chars = clean(sentences)\n",
    "pairs = [''.join(s) for s in zip(chars[:-1], chars[1:])]\n",
    "\n",
    "pair_count = {}\n",
    "for pair in pairs:\n",
    "    pair_count[pair] = pair_count.get(pair, 0) + 1\n",
    "    \n",
    "sorted(pair_count.items(), key= lambda x: x[1], reverse=True)[:1]"
   ]
  },
  {
   "cell_type": "markdown",
   "metadata": {},
   "source": [
    "**6**. (10 points)\n",
    "\n",
    "- Save the palindromes found in **1** to a file `data/palindromes.txt` with each palindrome in its own line.\n",
    "- Read the file `data/palindromes.txt` and display the lines formatted so that\n",
    "    - the longest line is printed as is\n",
    "    - all other lines are right-aligned to the longest line"
   ]
  },
  {
   "cell_type": "code",
   "execution_count": null,
   "metadata": {},
   "outputs": [],
   "source": [
    "with open('data/palindromes.txt', 'w') as f:\n",
    "    f.write('\\n'.join(s1))"
   ]
  },
  {
   "cell_type": "code",
   "execution_count": null,
   "metadata": {},
   "outputs": [],
   "source": [
    "cat data/palindromes.txt"
   ]
  },
  {
   "cell_type": "code",
   "execution_count": null,
   "metadata": {},
   "outputs": [],
   "source": [
    "with open('data/palindromes.txt', 'r') as f:\n",
    "    lines = f.read().split('\\n')"
   ]
  },
  {
   "cell_type": "code",
   "execution_count": null,
   "metadata": {},
   "outputs": [],
   "source": [
    "lines"
   ]
  },
  {
   "cell_type": "code",
   "execution_count": null,
   "metadata": {},
   "outputs": [],
   "source": [
    "n = max([len(line) for line in lines])\n",
    "for line in lines:\n",
    "    print(f'{line:>{n}}')"
   ]
  },
  {
   "cell_type": "markdown",
   "metadata": {},
   "source": [
    "**7**. (20 points)\n",
    "\n",
    "- Write a function called `encode` that uses the simple Caesar cipher with offset of $k$. A Caesar cipher moves a character $k$ positions forward with wraparound - an offset of 2 would give `a -> c, b -> d, ..., y -> a, z -> b`. \n",
    "\n",
    "The encoder should preserve punctuation, spaces and the case of the characters as in the example below for an offset of 13.\n",
    "\n",
    "```\n",
    "(original) Why did the chicken cross the road?\n",
    "(encoded) Jul qvq gur puvpxra pebff gur ebnq?\n",
    "```\n",
    "\n",
    "Write a function to encode and decode text using a Caesar cipher with an offset of 5 and test it on the `Why did the chicken cross the road?`"
   ]
  },
  {
   "cell_type": "code",
   "execution_count": null,
   "metadata": {},
   "outputs": [],
   "source": [
    "def encode(s, k):\n",
    "    \"\"\"Encode s using a Caesar cipher with offset k.\"\"\"\n",
    "    \n",
    "    before = string.ascii_lowercase + string.ascii_uppercase\n",
    "    after = (string.ascii_lowercase[k:] + string.ascii_lowercase[:k] + \n",
    "             string.ascii_uppercase[k:] + string.ascii_uppercase[:k])\n",
    "    \n",
    "    return s.translate(str.maketrans(before, after))\n",
    "\n",
    "def decode(s, k):\n",
    "    \"\"\"Decode s using a Caesar cipher with offset k\"\"\"\n",
    "    \n",
    "    return encode(s, -k)       "
   ]
  },
  {
   "cell_type": "code",
   "execution_count": null,
   "metadata": {},
   "outputs": [],
   "source": [
    "plain = 'Why did the chicken cross the road?'\n",
    "encoded = encode(plain, 5)\n",
    "encoded"
   ]
  },
  {
   "cell_type": "code",
   "execution_count": null,
   "metadata": {},
   "outputs": [],
   "source": [
    "decode(encoded, 5)"
   ]
  },
  {
   "cell_type": "markdown",
   "metadata": {},
   "source": [
    "**8**. (20 points)\n",
    "\n",
    "A one-time pad is the same as a Caesar cipher, except that each character is given a random offset (the pad contains a list of offsets). Without the pad, the cipher is unbreakable. Write a function to encode and decode using the one-time pad of offsets provided in `data/pad.txt`. As usual, the encoder should ignore punctuation and spaces but preserve the case of the characters."
   ]
  },
  {
   "cell_type": "code",
   "execution_count": null,
   "metadata": {},
   "outputs": [],
   "source": [
    "offsets = []\n",
    "with open('data/pad.txt') as f:\n",
    "    for line in f:\n",
    "        if line:\n",
    "            offsets.append(int(line))"
   ]
  },
  {
   "cell_type": "code",
   "execution_count": null,
   "metadata": {},
   "outputs": [],
   "source": [
    "def encode_pad(s, offsets):\n",
    "    \"\"\"Encode s using a one-time pad.\"\"\"\n",
    "    \n",
    "    index = 0\n",
    "    cipher = []\n",
    "    for char in s:\n",
    "        if char in string.ascii_letters:\n",
    "            # modulo in case more characters than offsets\n",
    "            k = offsets[index % len(offsets)] \n",
    "            cipher.append(encode(char, k))\n",
    "            index += 1\n",
    "        else:\n",
    "            cipher.append(char)\n",
    "    return ''.join(cipher)\n",
    "\n",
    "def decode_pad(s, offsets):\n",
    "    \"\"\"Decode s using a one-time pad.\"\"\"\n",
    "\n",
    "    return encode_pad(s, [-k for k in offsets])"
   ]
  },
  {
   "cell_type": "code",
   "execution_count": null,
   "metadata": {},
   "outputs": [],
   "source": [
    "pad_encoded = encode_pad(plain, offsets)\n",
    "pad_encoded"
   ]
  },
  {
   "cell_type": "code",
   "execution_count": null,
   "metadata": {},
   "outputs": [],
   "source": [
    "decode_pad(pad_encoded, offsets)"
   ]
  }
 ],
 "metadata": {
  "kernelspec": {
   "display_name": "Python 3",
   "language": "python",
   "name": "python3"
  },
  "language_info": {
   "codemirror_mode": {
    "name": "ipython",
    "version": 3
   },
   "file_extension": ".py",
   "mimetype": "text/x-python",
   "name": "python",
   "nbconvert_exporter": "python",
   "pygments_lexer": "ipython3",
   "version": "3.7.0"
  }
 },
 "nbformat": 4,
 "nbformat_minor": 2
}
