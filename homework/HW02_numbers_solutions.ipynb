{
 "cells": [
  {
   "cell_type": "code",
   "execution_count": 1,
   "metadata": {},
   "outputs": [],
   "source": [
    "import numpy as np"
   ]
  },
  {
   "cell_type": "markdown",
   "metadata": {},
   "source": [
    "# Homework 02:  Working with numbers"
   ]
  },
  {
   "cell_type": "markdown",
   "metadata": {},
   "source": [
    "**1**. (10 points) \n",
    "\n",
    "Normalize the $3 \\times 4$ diagonal matrix with diagonal (1, ,2, 3) so all rows have mean 0 and standard deviation 1. The matrix has 0 everywhere not on the diagonal.\n",
    "\n",
    "<font color=red>This is straightforward test of matrix construction, marginalization and broadcasting</font>"
   ]
  },
  {
   "cell_type": "code",
   "execution_count": 2,
   "metadata": {},
   "outputs": [],
   "source": [
    "x = np.c_[np.diag([1,2,3]), np.zeros(3)]"
   ]
  },
  {
   "cell_type": "code",
   "execution_count": 3,
   "metadata": {},
   "outputs": [
    {
     "data": {
      "text/plain": [
       "array([[1., 0., 0., 0.],\n",
       "       [0., 2., 0., 0.],\n",
       "       [0., 0., 3., 0.]])"
      ]
     },
     "execution_count": 3,
     "metadata": {},
     "output_type": "execute_result"
    }
   ],
   "source": [
    "x"
   ]
  },
  {
   "cell_type": "code",
   "execution_count": 4,
   "metadata": {},
   "outputs": [
    {
     "data": {
      "text/plain": [
       "array([[ 1.73205081, -0.57735027, -0.57735027, -0.57735027],\n",
       "       [-0.57735027,  1.73205081, -0.57735027, -0.57735027],\n",
       "       [-0.57735027, -0.57735027,  1.73205081, -0.57735027]])"
      ]
     },
     "execution_count": 4,
     "metadata": {},
     "output_type": "execute_result"
    }
   ],
   "source": [
    "x_scaled = (x - x.mean(axis=1)[:, None])/x.std(axis=1)[:, None]\n",
    "x_scaled"
   ]
  },
  {
   "cell_type": "code",
   "execution_count": 5,
   "metadata": {},
   "outputs": [
    {
     "data": {
      "text/plain": [
       "array([-0., -0.,  0.])"
      ]
     },
     "execution_count": 5,
     "metadata": {},
     "output_type": "execute_result"
    }
   ],
   "source": [
    "np.around(x_scaled.mean(axis=1))"
   ]
  },
  {
   "cell_type": "code",
   "execution_count": 6,
   "metadata": {},
   "outputs": [
    {
     "data": {
      "text/plain": [
       "array([1., 1., 1.])"
      ]
     },
     "execution_count": 6,
     "metadata": {},
     "output_type": "execute_result"
    }
   ],
   "source": [
    "x_scaled.std(axis=1)"
   ]
  },
  {
   "cell_type": "markdown",
   "metadata": {},
   "source": [
    "**2**. (10 points) \n",
    "\n",
    "A fixed point of a funciton is a value that remains the same when the funciton is applied to it, that is $f(x) = x$. Write a function that finds the fixed poitn of another function $f$ given an intiial value $x_0$. For example, if\n",
    "\n",
    "$$f(x) \\rightarrow \\sqrt{x}$$\n",
    "\n",
    "and \n",
    "\n",
    "$x_0$ is any positive real number, then the function should return 1 since\n",
    "\n",
    "$$\\sqrt{1} = 1$$\n",
    "\n",
    "Not all funcitons have a fixed point - if it taakes over 1,000 iterations, the fucntion shold return None.\n",
    "\n",
    "- Use the function signature `fixed_point(f, x0, max_iter=1000)`. \n",
    "- Test with `fixed_point(np.sqrt, 10)`.\n",
    "\n",
    "<font color=red>This tests custom function writing, use of looping and checking a floating point condition, and the use of a higher order function.</font>"
   ]
  },
  {
   "cell_type": "code",
   "execution_count": 7,
   "metadata": {},
   "outputs": [],
   "source": [
    "def fixed_point(f, x0, max_iter=1000):\n",
    "    \"\"\"Fixed point iteration of f.\"\"\"\n",
    "        \n",
    "    tol = 1e-12\n",
    "    x = x0\n",
    "    i = 0\n",
    "    while np.abs(x - f(x)) > tol:\n",
    "        x = f(x)\n",
    "        i += 1\n",
    "        if i > max_iter:\n",
    "            return None\n",
    "    return x"
   ]
  },
  {
   "cell_type": "code",
   "execution_count": 8,
   "metadata": {},
   "outputs": [
    {
     "data": {
      "text/plain": [
       "1.000000000001047"
      ]
     },
     "execution_count": 8,
     "metadata": {},
     "output_type": "execute_result"
    }
   ],
   "source": [
    "fixed_point(np.sqrt, 10)"
   ]
  },
  {
   "cell_type": "markdown",
   "metadata": {},
   "source": [
    "**3**. (10 points) \n",
    "\n",
    "Use `np.fromfunction` to construc the following matrix\n",
    "\n",
    "```python\n",
    "array([[5, 0, 0, 0, 5],\n",
    "       [0, 4, 0, 4, 0],\n",
    "       [0, 0, 3, 0, 0],\n",
    "       [0, 2, 0, 2, 0],\n",
    "       [1, 0, 0, 0, 1]])\n",
    "```\n",
    "\n",
    "<font color=red>This tests understanding of how `fromfunction` works and the use of element-wise selection with `np.where`. You need to see that we need to pull out the diagonals and anti-diagonals and write an expression to do so.</font>"
   ]
  },
  {
   "cell_type": "code",
   "execution_count": 9,
   "metadata": {},
   "outputs": [],
   "source": [
    "j = np.repeat([np.arange(5)], 5, axis=0)\n",
    "i = j.T"
   ]
  },
  {
   "cell_type": "code",
   "execution_count": 10,
   "metadata": {},
   "outputs": [
    {
     "data": {
      "text/plain": [
       "array([[0, 0, 0, 0, 0],\n",
       "       [1, 1, 1, 1, 1],\n",
       "       [2, 2, 2, 2, 2],\n",
       "       [3, 3, 3, 3, 3],\n",
       "       [4, 4, 4, 4, 4]])"
      ]
     },
     "execution_count": 10,
     "metadata": {},
     "output_type": "execute_result"
    }
   ],
   "source": [
    "i"
   ]
  },
  {
   "cell_type": "code",
   "execution_count": 11,
   "metadata": {},
   "outputs": [
    {
     "data": {
      "text/plain": [
       "array([[0, 1, 2, 3, 4],\n",
       "       [0, 1, 2, 3, 4],\n",
       "       [0, 1, 2, 3, 4],\n",
       "       [0, 1, 2, 3, 4],\n",
       "       [0, 1, 2, 3, 4]])"
      ]
     },
     "execution_count": 11,
     "metadata": {},
     "output_type": "execute_result"
    }
   ],
   "source": [
    "j"
   ]
  },
  {
   "cell_type": "code",
   "execution_count": 12,
   "metadata": {},
   "outputs": [
    {
     "data": {
      "text/plain": [
       "array([[5, 0, 0, 0, 5],\n",
       "       [0, 4, 0, 4, 0],\n",
       "       [0, 0, 3, 0, 0],\n",
       "       [0, 2, 0, 2, 0],\n",
       "       [1, 0, 0, 0, 1]])"
      ]
     },
     "execution_count": 12,
     "metadata": {},
     "output_type": "execute_result"
    }
   ],
   "source": [
    "np.fromfunction(lambda i, j: np.where((i==j) | (i==4-j), 5-i, 0), (5,5), dtype='int')"
   ]
  },
  {
   "cell_type": "markdown",
   "metadata": {},
   "source": [
    "**4**. (15 points)\n",
    "\n",
    "Simulate $n$ coin toss experiments, in which you toss a coin $k$ times for each experiment. Find the maximum run length of heads (e.g. the sequence `T,T,H,H,H,T,H,H` has a maximum run length of 3 heads in each experiment.  What is the most common maximum run length?\n",
    "\n",
    "Let $n$ = 10,000 and $k=100$.\n",
    "\n",
    "<font color=red>This tests if you can construct a simple simulation. The counting of runs was covered in the lecture notes using a finite state machine or regular expressions.</font>"
   ]
  },
  {
   "cell_type": "code",
   "execution_count": 13,
   "metadata": {},
   "outputs": [],
   "source": [
    "def alt_runs(seq):\n",
    "    \"\"\"Count using  a finite state machine.\n",
    "    \n",
    "    A regular expression solution is also ok - see lecture notes for implementtation.\n",
    "    \"\"\"\n",
    "\n",
    "    current = seq[0]\n",
    "    max_run = 1\n",
    "    n = 1\n",
    "\n",
    "    for s in seq[1:]:\n",
    "        if s != current:\n",
    "            n += 1\n",
    "        else:\n",
    "            max_run = max(max_run, n)\n",
    "            n = 1           \n",
    "        current = s\n",
    "        max_run = max(max_run, n)\n",
    "    return max_run"
   ]
  },
  {
   "cell_type": "code",
   "execution_count": 14,
   "metadata": {},
   "outputs": [],
   "source": [
    "n = 10000\n",
    "k = 100\n",
    "seqs = np.random.choice(['H', 'T'], (n, k))\n",
    "max_runs = [alt_runs(seq) for seq in seqs]"
   ]
  },
  {
   "cell_type": "code",
   "execution_count": 15,
   "metadata": {},
   "outputs": [],
   "source": [
    "d = {}\n",
    "for run in max_runs:\n",
    "    d[run] = d.get(run, 0) + 1"
   ]
  },
  {
   "cell_type": "code",
   "execution_count": 16,
   "metadata": {},
   "outputs": [
    {
     "data": {
      "text/plain": [
       "(6, 2602)"
      ]
     },
     "execution_count": 16,
     "metadata": {},
     "output_type": "execute_result"
    }
   ],
   "source": [
    "sorted(d.items(), key=lambda x: x[1], reverse=True)[0]"
   ]
  },
  {
   "cell_type": "markdown",
   "metadata": {},
   "source": [
    "**5**. (15 points)\n",
    "\n",
    "Wikipedia gives this algorithm for finding prime numbers\n",
    "\n",
    "To find all the prime numbers less than or equal to a given integer n by Eratosthenes' method:\n",
    "\n",
    "- Create a list of consecutive integers from 2 through n: (2, 3, 4, ..., n).\n",
    "- Initially, let p equal 2, the smallest prime number.\n",
    "- Enumerate the multiples of p by counting to n from 2p in increments of p, and mark them in the list (these will be 2p, 3p, 4p, ...; the p itself should not be marked).\n",
    "- Find the first number greater than p in the list that is not marked. If there was no such number, stop. Otherwise, let p now equal this new number (which is the next prime), and repeat from step 3.\n",
    "- When the algorithm terminates, the numbers remaining not marked in the list are all the primes below n.\n",
    "\n",
    "Find all primes less than 1,000 using this method.\n",
    "\n",
    "- You may use `numpy` and do not have to follow the algorithm exactly if you can achieve the same results.\n",
    "\n",
    "<font color=red>Test ability to construct a slightly more complex algorithm.</font>"
   ]
  },
  {
   "cell_type": "code",
   "execution_count": 17,
   "metadata": {},
   "outputs": [],
   "source": [
    "def sieve(n):\n",
    "    \"\"\"Sieve of Erastothenes.\"\"\"\n",
    "    \n",
    "    xs = np.arange(n+1)\n",
    "    keep = np.ones(len(xs)).astype('bool')\n",
    "    keep[:2] = 0\n",
    "    p = 2\n",
    "    while True:\n",
    "        idx = p + p\n",
    "        while idx <= n:\n",
    "            keep[idx] = 0\n",
    "            idx += p\n",
    "        p = xs[p+1]\n",
    "        while keep[p] == 0:\n",
    "            p += 1\n",
    "            if p == n:\n",
    "                return xs[keep]"
   ]
  },
  {
   "cell_type": "code",
   "execution_count": 18,
   "metadata": {},
   "outputs": [
    {
     "data": {
      "text/plain": [
       "array([  2,   3,   5,   7,  11,  13,  17,  19,  23,  29,  31,  37,  41,\n",
       "        43,  47,  53,  59,  61,  67,  71,  73,  79,  83,  89,  97, 101,\n",
       "       103, 107, 109, 113, 127, 131, 137, 139, 149, 151, 157, 163, 167,\n",
       "       173, 179, 181, 191, 193, 197, 199, 211, 223, 227, 229, 233, 239,\n",
       "       241, 251, 257, 263, 269, 271, 277, 281, 283, 293, 307, 311, 313,\n",
       "       317, 331, 337, 347, 349, 353, 359, 367, 373, 379, 383, 389, 397,\n",
       "       401, 409, 419, 421, 431, 433, 439, 443, 449, 457, 461, 463, 467,\n",
       "       479, 487, 491, 499, 503, 509, 521, 523, 541, 547, 557, 563, 569,\n",
       "       571, 577, 587, 593, 599, 601, 607, 613, 617, 619, 631, 641, 643,\n",
       "       647, 653, 659, 661, 673, 677, 683, 691, 701, 709, 719, 727, 733,\n",
       "       739, 743, 751, 757, 761, 769, 773, 787, 797, 809, 811, 821, 823,\n",
       "       827, 829, 839, 853, 857, 859, 863, 877, 881, 883, 887, 907, 911,\n",
       "       919, 929, 937, 941, 947, 953, 967, 971, 977, 983, 991, 997])"
      ]
     },
     "execution_count": 18,
     "metadata": {},
     "output_type": "execute_result"
    }
   ],
   "source": [
    "sieve(1000)"
   ]
  },
  {
   "cell_type": "markdown",
   "metadata": {},
   "source": [
    "**6**. (40 points)\n",
    "\n",
    "Write code to generate a plot similar to those shown below using the explanation for generation of 1D Cellular Automata found [here](http://mathworld.wolfram.com/ElementaryCellularAutomaton.html). You should only need to use standard Python, `numpy` and `matplotllib`.\n",
    "\n",
    "![automata](http://mathworld.wolfram.com/images/eps-gif/ElementaryCA_850.gif)\n",
    "\n",
    "\n",
    "\n",
    "The input to the function making the plots should be a simple list of rules\n",
    "\n",
    "```python\n",
    "rules = [30, 54, 60, 62, 90, 94, 102, 110, 122, 126, \n",
    "         150, 158, 182, 188, 190, 220, 222, 250]\n",
    "make_plots(rules, niter)\n",
    "```\n",
    "\n",
    "You may, of course, write other helper functions to keep your code modular.\n",
    "\n",
    "<font color=red>Tests ability to break down a complex algorithm into simpler steps.\n",
    "\n",
    "- Convert integer rule into a map of next states\n",
    "- Use map to construct next state vector from current state vector by neighbor counting\n",
    "- Practice low level graphics construction (provided)\n",
    "</font>"
   ]
  },
  {
   "cell_type": "code",
   "execution_count": 19,
   "metadata": {},
   "outputs": [],
   "source": [
    "def make_map(rule):\n",
    "    \"\"\"Convert an integer into a rule mapping nbr states to new state.\"\"\"\n",
    "    \n",
    "    bits = map(int, list(bin(rule)[2:].zfill(8)))\n",
    "    return dict(zip(range(7, -1, -1), bits))"
   ]
  },
  {
   "cell_type": "markdown",
   "metadata": {},
   "source": [
    "Note: You can convert an integer into a binary representation using one of the methods below."
   ]
  },
  {
   "cell_type": "code",
   "execution_count": 20,
   "metadata": {},
   "outputs": [
    {
     "name": "stdout",
     "output_type": "stream",
     "text": [
      "00000111\n",
      "00000111\n"
     ]
    }
   ],
   "source": [
    "rule = 7\n",
    "print(bin(rule)[2:].zfill(8))\n",
    "print(format(7, '08b'))"
   ]
  },
  {
   "cell_type": "code",
   "execution_count": 21,
   "metadata": {},
   "outputs": [],
   "source": [
    "def make_ca(rule, init, niters):\n",
    "    \"\"\"Run a 1d CA from init state for niters for given rule.\"\"\"\n",
    "    \n",
    "    mapper = make_map(rule)\n",
    "    grid = np.zeros((niters, len(init)), 'int')\n",
    "    grid[0] = init\n",
    "    old = np.r_[init[-1:], init, init[0:1]]\n",
    "    for i in range(1, niters):\n",
    "        nbrs = zip(old[0:], old[1:], old[2:])\n",
    "        cells = (int(''.join(map(str, nbr)), base=2) for nbr in nbrs)\n",
    "        new = np.array([mapper[cell] for cell in cells])\n",
    "        grid[i] = new\n",
    "        old = np.r_[new[-1:], new, new[0:1]]\n",
    "    return grid"
   ]
  },
  {
   "cell_type": "code",
   "execution_count": 22,
   "metadata": {},
   "outputs": [],
   "source": [
    "%matplotlib inline"
   ]
  },
  {
   "cell_type": "code",
   "execution_count": 23,
   "metadata": {},
   "outputs": [],
   "source": [
    "from matplotlib.ticker import NullFormatter, IndexLocator\n",
    "import matplotlib.pyplot as plt\n",
    "\n",
    "def plot_grid(rule, grid, ax=None):\n",
    "    \"\"\"Plot a single grid.\"\"\"\n",
    "    \n",
    "    if ax is None:\n",
    "        ax = plt.subplot(111)\n",
    "    with plt.style.context('seaborn-white'):\n",
    "        ax.grid(True, which='major', color='grey', linewidth=0.5)\n",
    "        ax.imshow(grid, interpolation='none', cmap='Greys', aspect=1, alpha=0.8)\n",
    "        ax.xaxis.set_major_locator(IndexLocator(1, 0))\n",
    "        ax.yaxis.set_major_locator(IndexLocator(1, 0))\n",
    "        ax.xaxis.set_major_formatter( NullFormatter() )\n",
    "        ax.yaxis.set_major_formatter( NullFormatter() )\n",
    "        ax.set_title('Rule %d' % rule)"
   ]
  },
  {
   "cell_type": "code",
   "execution_count": 24,
   "metadata": {},
   "outputs": [],
   "source": [
    "def make_plots(rules, niter):\n",
    "    \"\"\"Plot array of grids.\"\"\"\n",
    "    \n",
    "    nrows, ncols = rules.shape\n",
    "    fig, axes = plt.subplots(nrows, ncols, figsize=(ncols*3, nrows*2))\n",
    "    for i in range(nrows):\n",
    "        for j in range(ncols):\n",
    "            grid = make_ca(rules[i, j], init, niter)\n",
    "            plot_grid(rules[i, j], grid, ax=axes[i,j])\n",
    "    plt.tight_layout()"
   ]
  },
  {
   "cell_type": "code",
   "execution_count": 25,
   "metadata": {},
   "outputs": [
    {
     "data": {
      "image/png": "[encoded data removed]",
      "text/plain": [
       "<Figure size 648x864 with 18 Axes>"
      ]
     },
     "metadata": {
      "needs_background": "light"
     },
     "output_type": "display_data"
    }
   ],
   "source": [
    "niter = 15\n",
    "width = niter*2+1\n",
    "init = np.zeros(width, 'int')\n",
    "init[width//2] = 1\n",
    "rules = np.array([30, 54, 60, 62, 90, 94, 102, 110, 122, 126, \n",
    "                  150, 158, 182, 188, 190, 220, 222, 250]).reshape((-1, 3))\n",
    "\n",
    "ncols = width\n",
    "make_plots(rules, niter)"
   ]
  },
  {
   "cell_type": "code",
   "execution_count": null,
   "metadata": {},
   "outputs": [],
   "source": []
  }
 ],
 "metadata": {
  "kernelspec": {
   "display_name": "Python 3",
   "language": "python",
   "name": "python3"
  },
  "language_info": {
   "codemirror_mode": {
    "name": "ipython",
    "version": 3
   },
   "file_extension": ".py",
   "mimetype": "text/x-python",
   "name": "python",
   "nbconvert_exporter": "python",
   "pygments_lexer": "ipython3",
   "version": "3.7.0"
  }
 },
 "nbformat": 4,
 "nbformat_minor": 2
}
