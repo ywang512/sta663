{
 "cells": [
  {
   "cell_type": "markdown",
   "metadata": {},
   "source": [
    "# Homework 02:  Working with numbers"
   ]
  },
  {
   "cell_type": "markdown",
   "metadata": {},
   "source": [
    "**1**. (10 points) \n",
    "\n",
    "Normalize the $3 \\times 4$ diagonal matrix with diagonal (1, ,2, 3) so all rows have mean 0 and standard deviation 1. The matrix has 0 everywhere not on the diagonal."
   ]
  },
  {
   "cell_type": "code",
   "execution_count": 30,
   "metadata": {},
   "outputs": [
    {
     "data": {
      "text/plain": [
       "array([[ 1.73205081, -0.57735027, -0.57735027, -0.57735027],\n",
       "       [-0.57735027,  1.73205081, -0.57735027, -0.57735027],\n",
       "       [-0.57735027, -0.57735027,  1.73205081, -0.57735027]])"
      ]
     },
     "execution_count": 30,
     "metadata": {},
     "output_type": "execute_result"
    }
   ],
   "source": [
    "import numpy as np\n",
    "\n",
    "a = np.diag((1,2,3), k = -1)[1:,]\n",
    "a = a - np.mean(a, axis = 1).reshape(3,1)\n",
    "a = a / np.std(a, axis = 1).reshape(3,1)\n",
    "a"
   ]
  },
  {
   "cell_type": "markdown",
   "metadata": {},
   "source": [
    "**2**. (10 points) \n",
    "\n",
    "A fixed point of a funciton is a value that remains the same when the funciton is applied to it, that is $f(x) = x$. Write a function that finds the fixed poitn of another function $f$ given an intiial value $x_0$. For example, if\n",
    "\n",
    "$$f(x) \\rightarrow \\sqrt{x}$$\n",
    "\n",
    "and \n",
    "\n",
    "$x_0$ is any positive real number, then the function should return 1 since\n",
    "\n",
    "$$\\sqrt{1} = 1$$\n",
    "\n",
    "Not all funcitons have a fixed point - if it taakes over 1,000 iterations, the fucntion shold return None.\n",
    "\n",
    "- Use the function signature `fixed_point(f, x0, max_iter=1000)`. \n",
    "- Test with `fixed_point(np.sqrt, 10)`."
   ]
  },
  {
   "cell_type": "code",
   "execution_count": 31,
   "metadata": {},
   "outputs": [
    {
     "data": {
      "text/plain": [
       "1.0"
      ]
     },
     "execution_count": 31,
     "metadata": {},
     "output_type": "execute_result"
    }
   ],
   "source": [
    "def fixed_point(f, x0, max_iter=1000):\n",
    "    for i in range(max_iter):\n",
    "        if f(x0) == x0:\n",
    "            return x0\n",
    "        else:\n",
    "            x0 = f(x0)\n",
    "    return None\n",
    "\n",
    "fixed_point(np.sqrt, 10)"
   ]
  },
  {
   "cell_type": "markdown",
   "metadata": {},
   "source": [
    "**3**. (10 points) \n",
    "\n",
    "Use `np.fromfunction` to construc the following matrix\n",
    "\n",
    "```python\n",
    "array([[5, 0, 0, 0, 5],\n",
    "       [0, 4, 0, 4, 0],\n",
    "       [0, 0, 3, 0, 0],\n",
    "       [0, 2, 0, 2, 0],\n",
    "       [1, 0, 0, 0, 1]])\n",
    "```"
   ]
  },
  {
   "cell_type": "code",
   "execution_count": 35,
   "metadata": {},
   "outputs": [
    {
     "data": {
      "text/plain": [
       "array([[5., 0., 0., 0., 1.],\n",
       "       [0., 4., 0., 2., 0.],\n",
       "       [0., 0., 3., 0., 0.],\n",
       "       [0., 4., 0., 2., 0.],\n",
       "       [5., 0., 0., 0., 1.]])"
      ]
     },
     "execution_count": 35,
     "metadata": {},
     "output_type": "execute_result"
    }
   ],
   "source": [
    "np.fromfunction(lambda i, j: np.where((i-j)*(i+j-4)==0, 5-j, 0), [5,5])"
   ]
  },
  {
   "cell_type": "markdown",
   "metadata": {},
   "source": [
    "**4**. (15 points)\n",
    "\n",
    "Simulate $n$ coin toss experiments, in which you toss a coin $k$ times for each experiment. Find the maximum run length of heads (e.g. the sequence `T,T,H,H,H,T,H,H` has a maximum run length of 3 heads in each experiment.  What is the most common maximum run length?\n",
    "\n",
    "Let $n$ = 10,000 and $k=100$."
   ]
  },
  {
   "cell_type": "code",
   "execution_count": 40,
   "metadata": {},
   "outputs": [
    {
     "data": {
      "text/plain": [
       "array([ True,  True,  True, False, False, False,  True, False, False,\n",
       "       False, False,  True, False,  True,  True,  True,  True, False,\n",
       "        True, False,  True,  True, False,  True, False, False, False,\n",
       "       False, False,  True,  True, False, False,  True,  True, False,\n",
       "        True, False,  True, False, False, False,  True,  True, False,\n",
       "        True, False,  True, False,  True, False,  True,  True,  True,\n",
       "       False, False,  True,  True, False, False, False,  True, False,\n",
       "        True, False,  True,  True,  True, False,  True, False,  True,\n",
       "        True, False, False, False,  True,  True, False, False, False,\n",
       "       False,  True, False,  True,  True, False, False, False,  True,\n",
       "        True, False, False, False,  True,  True,  True,  True,  True,\n",
       "        True])"
      ]
     },
     "execution_count": 40,
     "metadata": {},
     "output_type": "execute_result"
    }
   ],
   "source": [
    "def coin_toss(k=100):\n",
    "    toss = np.random.rand(100)\n",
    "    for r in toss\n"
   ]
  },
  {
   "cell_type": "markdown",
   "metadata": {},
   "source": [
    "**5**. (15 points)\n",
    "\n",
    "Wikipedia gives this algorithm for finding prime numbers\n",
    "\n",
    "To find all the prime numbers less than or equal to a given integer n by Eratosthenes' method:\n",
    "\n",
    "- Create a list of consecutive integers from 2 through n: (2, 3, 4, ..., n).\n",
    "- Initially, let p equal 2, the smallest prime number.\n",
    "- Enumerate the multiples of p by counting to n from 2p in increments of p, and mark them in the list (these will be 2p, 3p, 4p, ...; the p itself should not be marked).\n",
    "- Find the first number greater than p in the list that is not marked. If there was no such number, stop. Otherwise, let p now equal this new number (which is the next prime), and repeat from step 3.\n",
    "- When the algorithm terminates, the numbers remaining not marked in the list are all the primes below n.\n",
    "\n",
    "Find all primes less than 1,000 using this method.\n",
    "\n",
    "- You may use `numpy` and do not have to follow the algorithm exactly if you can achieve the same results."
   ]
  },
  {
   "cell_type": "code",
   "execution_count": null,
   "metadata": {},
   "outputs": [],
   "source": []
  },
  {
   "cell_type": "markdown",
   "metadata": {},
   "source": [
    "**6**. (40 points)\n",
    "\n",
    "Write code to generate a plot similar to those shown below using the explanation for generation of 1D Cellular Automata found [here](http://mathworld.wolfram.com/ElementaryCellularAutomaton.html). You should only need to use standard Python, `numpy` and `matplotllib`.\n",
    "\n",
    "![automata](http://mathworld.wolfram.com/images/eps-gif/ElementaryCA_850.gif)\n",
    "\n",
    "\n",
    "\n",
    "The input to the function making the plots should be a simple list of rules\n",
    "\n",
    "```python\n",
    "rules = [30, 54, 60, 62, 90, 94, 102, 110, 122, 126, \n",
    "         150, 158, 182, 188, 190, 220, 222, 250]\n",
    "make_plots(rules, niter, ncols)\n",
    "```\n",
    "\n",
    "You may, of course, write other helper functions to keep your code modular."
   ]
  },
  {
   "cell_type": "code",
   "execution_count": 94,
   "metadata": {},
   "outputs": [],
   "source": [
    "import numpy as np\n",
    "import matplotlib.pyplot as plt\n",
    "\n",
    "def generate(rule, current):\n",
    "    rule_code = []\n",
    "    for i in range(7, -1, -1):\n",
    "        if 2**i <= rule:\n",
    "            rule_code.append(1)\n",
    "            rule -= 2**i\n",
    "        else:\n",
    "            rule_code.append(0)\n",
    "    rule_code = np.array(rule_code[::-1])\n",
    "    new = np.zeros(current.shape[0], 'int')\n",
    "    for i, j, k, s in zip(current[:-2], current[1:-1], current[2:], range(current.shape[0]-2)):\n",
    "        new[s+1] = rule_code[i*2**2+j*2+k]    \n",
    "    return new\n",
    "\n"
   ]
  },
  {
   "cell_type": "code",
   "execution_count": 98,
   "metadata": {},
   "outputs": [
    {
     "data": {
      "image/png": "[encoded data removed]",
      "text/plain": [
       "<Figure size 432x288 with 1 Axes>"
      ]
     },
     "metadata": {
      "needs_background": "light"
     },
     "output_type": "display_data"
    }
   ],
   "source": [
    "def cellur(rule, gen=20):\n",
    "    cells = np.zeros((gen+2, 2*gen+3), 'int')\n",
    "    cells[0,gen+1] = 1\n",
    "    for i in range(gen):\n",
    "        cells[i+1,] = generate(rule, cells[i,])\n",
    "    return cells\n",
    "\n",
    "test = cellur(30)\n",
    "plt.imshow(test, cmap = 'Greys')\n",
    "plt.show()"
   ]
  },
  {
   "cell_type": "code",
   "execution_count": null,
   "metadata": {},
   "outputs": [],
   "source": []
  },
  {
   "cell_type": "code",
   "execution_count": null,
   "metadata": {},
   "outputs": [],
   "source": []
  }
 ],
 "metadata": {
  "kernelspec": {
   "display_name": "Python 3",
   "language": "python",
   "name": "python3"
  },
  "language_info": {
   "codemirror_mode": {
    "name": "ipython",
    "version": 3
   },
   "file_extension": ".py",
   "mimetype": "text/x-python",
   "name": "python",
   "nbconvert_exporter": "python",
   "pygments_lexer": "ipython3",
   "version": "3.7.2"
  }
 },
 "nbformat": 4,
 "nbformat_minor": 2
}
