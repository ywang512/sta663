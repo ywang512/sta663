{
 "cells": [
  {
   "cell_type": "code",
   "execution_count": 1,
   "metadata": {},
   "outputs": [],
   "source": [
    "%matplotlib inline\n",
    "\n",
    "import numpy as np\n",
    "import pandas as pd\n",
    "import matplotlib as mpl\n",
    "import matplotlib.pyplot as plt\n",
    "import seaborn as sns\n",
    "\n",
    "sns.set_context('notebook', font_scale=1.5)"
   ]
  },
  {
   "cell_type": "code",
   "execution_count": 2,
   "metadata": {},
   "outputs": [],
   "source": [
    "import warnings\n",
    "warnings.simplefilter('ignore', FutureWarning)"
   ]
  },
  {
   "cell_type": "markdown",
   "metadata": {},
   "source": [
    "**1**. (25 points)\n",
    "\n",
    "In this exercise, we will practice using Pandas dataframes to explore and summarize a data set `heart`.\n",
    "\n",
    "This data contains the survival time after receiving a heart transplant, the age of the patient and whether or not the survival time was censored\n",
    "\n",
    "- Number of Observations - 69\n",
    "- Number of Variables - 3\n",
    "\n",
    "Variable name definitions::\n",
    "\n",
    "- survival - Days after surgery until death\n",
    "- censors - indicates if an observation is censored. 1 is uncensored\n",
    "- age - age at the time of surgery\n",
    "\n",
    "Answer the following questions (5 points each) with respect to the `heart` data set:\n",
    "\n",
    "- How many patients were censored?\n",
    "- What is the correlation coefficient between age and survival for uncensored patients? \n",
    "- What is the average age for censored and uncensored patients?\n",
    "- What is the average survival time for censored and uncensored patients under the age of 45?\n",
    "- What is the survival time of the youngest and oldest uncensored patient?\n"
   ]
  },
  {
   "cell_type": "code",
   "execution_count": 3,
   "metadata": {},
   "outputs": [
    {
     "data": {
      "text/html": [
       "<div>\n",
       "<style scoped>\n",
       "    .dataframe tbody tr th:only-of-type {\n",
       "        vertical-align: middle;\n",
       "    }\n",
       "\n",
       "    .dataframe tbody tr th {\n",
       "        vertical-align: top;\n",
       "    }\n",
       "\n",
       "    .dataframe thead th {\n",
       "        text-align: right;\n",
       "    }\n",
       "</style>\n",
       "<table border=\"1\" class=\"dataframe\">\n",
       "  <thead>\n",
       "    <tr style=\"text-align: right;\">\n",
       "      <th></th>\n",
       "      <th>survival</th>\n",
       "      <th>censors</th>\n",
       "      <th>age</th>\n",
       "    </tr>\n",
       "  </thead>\n",
       "  <tbody>\n",
       "    <tr>\n",
       "      <th>0</th>\n",
       "      <td>15.0</td>\n",
       "      <td>1.0</td>\n",
       "      <td>54.3</td>\n",
       "    </tr>\n",
       "    <tr>\n",
       "      <th>1</th>\n",
       "      <td>3.0</td>\n",
       "      <td>1.0</td>\n",
       "      <td>40.4</td>\n",
       "    </tr>\n",
       "    <tr>\n",
       "      <th>2</th>\n",
       "      <td>624.0</td>\n",
       "      <td>1.0</td>\n",
       "      <td>51.0</td>\n",
       "    </tr>\n",
       "    <tr>\n",
       "      <th>3</th>\n",
       "      <td>46.0</td>\n",
       "      <td>1.0</td>\n",
       "      <td>42.5</td>\n",
       "    </tr>\n",
       "    <tr>\n",
       "      <th>4</th>\n",
       "      <td>127.0</td>\n",
       "      <td>1.0</td>\n",
       "      <td>48.0</td>\n",
       "    </tr>\n",
       "    <tr>\n",
       "      <th>5</th>\n",
       "      <td>64.0</td>\n",
       "      <td>1.0</td>\n",
       "      <td>54.6</td>\n",
       "    </tr>\n",
       "  </tbody>\n",
       "</table>\n",
       "</div>"
      ],
      "text/plain": [
       "   survival  censors   age\n",
       "0      15.0      1.0  54.3\n",
       "1       3.0      1.0  40.4\n",
       "2     624.0      1.0  51.0\n",
       "3      46.0      1.0  42.5\n",
       "4     127.0      1.0  48.0\n",
       "5      64.0      1.0  54.6"
      ]
     },
     "execution_count": 3,
     "metadata": {},
     "output_type": "execute_result"
    }
   ],
   "source": [
    "import statsmodels.api as sm\n",
    "heart = sm.datasets.heart.load_pandas().data\n",
    "heart.head(n=6)"
   ]
  },
  {
   "cell_type": "code",
   "execution_count": null,
   "metadata": {},
   "outputs": [],
   "source": [
    "\n",
    "\n",
    "\n"
   ]
  },
  {
   "cell_type": "markdown",
   "metadata": {},
   "source": [
    "**2**. (35 points)\n",
    "\n",
    "- Consider a sequence of $n$ Bernoulli trials with success probabilty $p$ per trial. A string of consecutive successes is known as a success *run*. Write a function that returns the counts for runs of length $k$ for each $k$ observed in a dictionary. (10 points)\n",
    "\n",
    "For example: if the trials were [0, 1, 0, 1, 1, 0, 0, 0, 0, 1], the function should return \n",
    "```\n",
    "{1: 2, 2: 1})\n",
    "```\n",
    "\n",
    "Test that it does so.\n",
    "\n",
    "- What is the probability of observing at least one run of length 5 or more when $n=100$ and $p=0.5$?. Estimate this from 100,000 simulated experiments. Is this more, less or equally likely than finding runs of length 7 or more when $p=0.7$? (10 points)\n",
    "\n",
    "- There is an exact solution\n",
    "\n",
    "$$\n",
    "s_n = \\sum_{i=1}^n{f_i} \\\\\n",
    "f_n = u_n - \\sum_{i=1}^{n-1} {f_i u_{n-i}} \\\\\n",
    "u_n = p^k - \\sum_{i=1}^{k-1} u_{n-i} p_i\n",
    "$$\n",
    "\n",
    "Implement the exact solution using caching to avoid re-calculations and calculate the same two probabilities found by simulation. (15 points)"
   ]
  },
  {
   "cell_type": "code",
   "execution_count": null,
   "metadata": {},
   "outputs": [],
   "source": [
    "\n",
    "\n",
    "\n"
   ]
  },
  {
   "cell_type": "markdown",
   "metadata": {},
   "source": [
    "**3**. (40 points)\n",
    "\n",
    "Given matrix $M$\n",
    "```python\n",
    "      [[7, 8, 8],\n",
    "       [1, 3, 8],\n",
    "       [9, 2, 1]]\n",
    "```\n",
    "\n",
    "- Normalize the given matrix $M$ so that all rows sum to 1.0.  (5 points)\n",
    "- The normalized matrix can then be considered as a transition matrix $P$ for a Markov chain. Find the stationary distribution of this matrix in the following ways using `numpy` and `numpy.linalg` (or `scipy.linalg`):\n",
    "    - By repeated matrix multiplication of a random probability vector $v$ (a row vector normalized to sum to 1.0) with $P$ using matrix multiplication with `np.dot`. (5 points)\n",
    "    - By raising the matrix $P$ to some large power until it doesn't change with higher powers (see `np.linalg.matrix_power`) and then calculating $vP$ (10 points)\n",
    "    - From the equation for stationarity $wP = w$, we can see that $w$ must be a left eigenvector of $P$ with eigenvalue $1$ (Note: np.linalg.eig returns the right eigenvectors, but the left eigenvector of a matrix is the right eigenvector of the transposed matrix). Use this to find $w$ using `np.linalg.eig`. (20 points)\n",
    "\n",
    "Suppose $w = (w_1, w_2, w_3)$. Then from $wP = w$, we have:\n",
    "\\begin{align}\n",
    "w_1 P_{11} + w_2 P_{21} + w_3 P_{31} &= w_1 \\\\\n",
    "w_1 P_{12} + w_2 P_{22} + w_3 P_{32} &= w_2 \\\\\n",
    "w_1 P_{13} + w_2 P_{23} + w_3 P_{331} &= w_3 \\\\\n",
    "\\end{align}\n",
    "This is a singular system, but we also know that $w_1 + w_2 + w_3 = 1$. Use these facts to set up a linear system of equations that can be solved with `np.linalg.solve` to find $w$."
   ]
  },
  {
   "cell_type": "code",
   "execution_count": null,
   "metadata": {},
   "outputs": [],
   "source": [
    "\n",
    "\n",
    "\n"
   ]
  }
 ],
 "metadata": {
  "kernelspec": {
   "display_name": "Python 3",
   "language": "python",
   "name": "python3"
  },
  "language_info": {
   "codemirror_mode": {
    "name": "ipython",
    "version": 3
   },
   "file_extension": ".py",
   "mimetype": "text/x-python",
   "name": "python",
   "nbconvert_exporter": "python",
   "pygments_lexer": "ipython3",
   "version": "3.7.0"
  }
 },
 "nbformat": 4,
 "nbformat_minor": 2
}
