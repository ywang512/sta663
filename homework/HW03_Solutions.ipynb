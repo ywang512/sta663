{
 "cells": [
  {
   "cell_type": "code",
   "execution_count": 1,
   "metadata": {},
   "outputs": [],
   "source": [
    "%matplotlib inline\n",
    "\n",
    "import numpy as np\n",
    "import pandas as pd\n",
    "import matplotlib as mpl\n",
    "import matplotlib.pyplot as plt\n",
    "import seaborn as sns\n",
    "\n",
    "sns.set_context('notebook', font_scale=1.5)"
   ]
  },
  {
   "cell_type": "code",
   "execution_count": 2,
   "metadata": {},
   "outputs": [],
   "source": [
    "import warnings\n",
    "warnings.simplefilter('ignore', FutureWarning)"
   ]
  },
  {
   "cell_type": "markdown",
   "metadata": {},
   "source": [
    "**1**. (25 points)\n",
    "\n",
    "In this exercise, we will practice using Pandas dataframes to explore and summarize a data set `heart`.\n",
    "\n",
    "This data contains the survival time after receiving a heart transplant, the age of the patient and whether or not the survival time was censored\n",
    "\n",
    "- Number of Observations - 69\n",
    "- Number of Variables - 3\n",
    "\n",
    "Variable name definitions::\n",
    "\n",
    "- survival - Days after surgery until death\n",
    "- censors - indicates if an observation is censored. 1 is uncensored\n",
    "- age - age at the time of surgery\n",
    "\n",
    "Answer the following questions (5 points each) with respect to the `heart` data set:\n",
    "\n",
    "- How many patients were censored?\n",
    "- What is the correlation coefficient between age and survival for uncensored patients? \n",
    "- What is the average age for censored and uncensored patients?\n",
    "- What is the average survival time for censored and uncensored patients under the age of 45?\n",
    "- What is the survival time of the youngest and oldest uncensored patient?\n"
   ]
  },
  {
   "cell_type": "code",
   "execution_count": 3,
   "metadata": {},
   "outputs": [
    {
     "data": {
      "text/html": [
       "<div>\n",
       "<style scoped>\n",
       "    .dataframe tbody tr th:only-of-type {\n",
       "        vertical-align: middle;\n",
       "    }\n",
       "\n",
       "    .dataframe tbody tr th {\n",
       "        vertical-align: top;\n",
       "    }\n",
       "\n",
       "    .dataframe thead th {\n",
       "        text-align: right;\n",
       "    }\n",
       "</style>\n",
       "<table border=\"1\" class=\"dataframe\">\n",
       "  <thead>\n",
       "    <tr style=\"text-align: right;\">\n",
       "      <th></th>\n",
       "      <th>survival</th>\n",
       "      <th>censors</th>\n",
       "      <th>age</th>\n",
       "    </tr>\n",
       "  </thead>\n",
       "  <tbody>\n",
       "    <tr>\n",
       "      <th>0</th>\n",
       "      <td>15.0</td>\n",
       "      <td>1.0</td>\n",
       "      <td>54.3</td>\n",
       "    </tr>\n",
       "    <tr>\n",
       "      <th>1</th>\n",
       "      <td>3.0</td>\n",
       "      <td>1.0</td>\n",
       "      <td>40.4</td>\n",
       "    </tr>\n",
       "    <tr>\n",
       "      <th>2</th>\n",
       "      <td>624.0</td>\n",
       "      <td>1.0</td>\n",
       "      <td>51.0</td>\n",
       "    </tr>\n",
       "    <tr>\n",
       "      <th>3</th>\n",
       "      <td>46.0</td>\n",
       "      <td>1.0</td>\n",
       "      <td>42.5</td>\n",
       "    </tr>\n",
       "    <tr>\n",
       "      <th>4</th>\n",
       "      <td>127.0</td>\n",
       "      <td>1.0</td>\n",
       "      <td>48.0</td>\n",
       "    </tr>\n",
       "    <tr>\n",
       "      <th>5</th>\n",
       "      <td>64.0</td>\n",
       "      <td>1.0</td>\n",
       "      <td>54.6</td>\n",
       "    </tr>\n",
       "  </tbody>\n",
       "</table>\n",
       "</div>"
      ],
      "text/plain": [
       "   survival  censors   age\n",
       "0      15.0      1.0  54.3\n",
       "1       3.0      1.0  40.4\n",
       "2     624.0      1.0  51.0\n",
       "3      46.0      1.0  42.5\n",
       "4     127.0      1.0  48.0\n",
       "5      64.0      1.0  54.6"
      ]
     },
     "execution_count": 3,
     "metadata": {},
     "output_type": "execute_result"
    }
   ],
   "source": [
    "import statsmodels.api as sm\n",
    "heart = sm.datasets.heart.load_pandas().data\n",
    "heart.head(n=6)"
   ]
  },
  {
   "cell_type": "code",
   "execution_count": 4,
   "metadata": {},
   "outputs": [
    {
     "data": {
      "text/plain": [
       "24"
      ]
     },
     "execution_count": 4,
     "metadata": {},
     "output_type": "execute_result"
    }
   ],
   "source": [
    "# How many patients were censored?\n",
    "\n",
    "sum(heart.censors == 0)"
   ]
  },
  {
   "cell_type": "code",
   "execution_count": 5,
   "metadata": {},
   "outputs": [
    {
     "data": {
      "text/plain": [
       "0.003256499283211926"
      ]
     },
     "execution_count": 5,
     "metadata": {},
     "output_type": "execute_result"
    }
   ],
   "source": [
    "# What is the correlation coefficient between age and survival for uncensored patients?\n",
    "\n",
    "uncensored = heart[heart.censors == 1]\n",
    "np.corrcoef(uncensored.age, uncensored.survival)[0,1]"
   ]
  },
  {
   "cell_type": "code",
   "execution_count": 6,
   "metadata": {},
   "outputs": [
    {
     "data": {
      "text/plain": [
       "censors\n",
       "0.0    41.729167\n",
       "1.0    48.484444\n",
       "Name: age, dtype: float64"
      ]
     },
     "execution_count": 6,
     "metadata": {},
     "output_type": "execute_result"
    }
   ],
   "source": [
    "# What is the average age for censored and uncensored patients?\n",
    "\n",
    "heart.groupby('censors')['age'].mean()"
   ]
  },
  {
   "cell_type": "code",
   "execution_count": 7,
   "metadata": {},
   "outputs": [
    {
     "data": {
      "text/plain": [
       "censors\n",
       "0.0    712.818182\n",
       "1.0    169.909091\n",
       "Name: survival, dtype: float64"
      ]
     },
     "execution_count": 7,
     "metadata": {},
     "output_type": "execute_result"
    }
   ],
   "source": [
    "# What is the average survival time for censored and uncensored patients under the age of 45?\n",
    "\n",
    "young = heart[heart.age < 45]\n",
    "young.groupby('censors')['survival'].mean()"
   ]
  },
  {
   "cell_type": "code",
   "execution_count": 8,
   "metadata": {},
   "outputs": [
    {
     "data": {
      "text/plain": [
       "(228.0, 60.0)"
      ]
     },
     "execution_count": 8,
     "metadata": {},
     "output_type": "execute_result"
    }
   ],
   "source": [
    "# What is the survival time of the youngest and oldest uncensored patient?\n",
    "\n",
    "uncensored.survival[np.argmin(uncensored.age)], uncensored.survival[np.argmax(uncensored.age)]"
   ]
  },
  {
   "cell_type": "markdown",
   "metadata": {},
   "source": [
    "**2**. (35 points)\n",
    "\n",
    "- Consider a sequence of $n$ Bernoulli trials with success probabilty $p$ per trial. A string of consecutive successes is known as a success *run*. Write a function that returns the counts for runs of length $k$ for each $k$ observed in a dictionary. (10 points)\n",
    "\n",
    "For example: if the trials were [0, 1, 0, 1, 1, 0, 0, 0, 0, 1], the function should return \n",
    "```\n",
    "{1: 2, 2: 1})\n",
    "```\n",
    "\n",
    "Test that it does so.\n",
    "\n",
    "- What is the probability of observing at least one run of length 5 or more when $n=100$ and $p=0.5$?. Estimate this from 100,000 simulated experiments. Is this more, less or equally likely than finding runs of length 7 or more when $p=0.7$? (10 points)\n",
    "\n",
    "- There is an exact solution\n",
    "\n",
    "$$\n",
    "s_n = \\sum_{i=1}^n{f_i} \\\\\n",
    "f_n = u_n - \\sum_{i=1}^{n-1} {f_i u_{n-i}} \\\\\n",
    "u_n = p^k - \\sum_{i=1}^{k-1} u_{n-i} p^i\n",
    "$$\n",
    "\n",
    "Implement the exact solution using caching to avoid re-calculations and calculate the same two probabilities found by simulation. (15 points)"
   ]
  },
  {
   "cell_type": "markdown",
   "metadata": {},
   "source": [
    "**Part 1**"
   ]
  },
  {
   "cell_type": "code",
   "execution_count": null,
   "metadata": {},
   "outputs": [],
   "source": [
    "from collections import Counter\n",
    "\n",
    "def count_runs(xs):\n",
    "    \"\"\"Count number of success runs of length k.\"\"\"\n",
    "    ys = []\n",
    "    count = 0\n",
    "    for x in xs:\n",
    "        if x == 1:\n",
    "            count += 1        \n",
    "        else:\n",
    "            if count: ys.append(count)\n",
    "            count = 0\n",
    "    if count: ys.append(count)\n",
    "    return Counter(ys)"
   ]
  },
  {
   "cell_type": "code",
   "execution_count": null,
   "metadata": {},
   "outputs": [],
   "source": [
    "count_runs([0, 1, 0, 1, 1, 0, 0, 0, 0, 1],)"
   ]
  },
  {
   "cell_type": "code",
   "execution_count": null,
   "metadata": {},
   "outputs": [],
   "source": [
    "count_runs(np.random.randint(0,2,1000000))"
   ]
  },
  {
   "cell_type": "markdown",
   "metadata": {},
   "source": [
    "**Part 2**"
   ]
  },
  {
   "cell_type": "code",
   "execution_count": null,
   "metadata": {},
   "outputs": [],
   "source": [
    "def run_prob(expts, n, k, p):\n",
    "    \"\"\"Probability of observing at least one run of lenght k or more by simuulation.\"\"\"\n",
    "    xxs = np.random.choice([0,1], (expts, n), p=(1-p, p))\n",
    "    return sum(max(d.keys()) >= k for d in map(count_runs, xxs))/expts"
   ]
  },
  {
   "cell_type": "code",
   "execution_count": null,
   "metadata": {},
   "outputs": [],
   "source": [
    "run_prob(expts=100000, n=100, k=5, p=0.5)"
   ]
  },
  {
   "cell_type": "code",
   "execution_count": null,
   "metadata": {},
   "outputs": [],
   "source": [
    "run_prob(expts=100000, n=100, k=7, p=0.7)"
   ]
  },
  {
   "cell_type": "markdown",
   "metadata": {},
   "source": [
    "**Part 3**"
   ]
  },
  {
   "cell_type": "code",
   "execution_count": 9,
   "metadata": {},
   "outputs": [],
   "source": [
    "from functools import lru_cache\n",
    "\n",
    "@lru_cache()\n",
    "def s(n, k, p):\n",
    "    \"\"\"Probability of observing at least one run of lenght k or more.\"\"\"\n",
    "    return sum(f(i, k, p) for i in range(1, n+1))\n",
    "\n",
    "@lru_cache()\n",
    "def f(n, k, p):\n",
    "    \"\"\"Helper function for s.\"\"\"\n",
    "    return u(n, k, p) - sum(f(i, k, p) * u(n-i, k, p) for i in range(1, n))\n",
    "\n",
    "@lru_cache()\n",
    "def u(n, k, p):\n",
    "    \"\"\"Helper function for f.\"\"\"\n",
    "    if n < k: \n",
    "        return 0\n",
    "    return p**k - sum(u(n-i, k, p) * p**i for i in range(1, k))"
   ]
  },
  {
   "cell_type": "code",
   "execution_count": 10,
   "metadata": {},
   "outputs": [
    {
     "data": {
      "text/plain": [
       "0.8101095991963579"
      ]
     },
     "execution_count": 10,
     "metadata": {},
     "output_type": "execute_result"
    }
   ],
   "source": [
    "s(100, 5, 0.5)"
   ]
  },
  {
   "cell_type": "code",
   "execution_count": 11,
   "metadata": {},
   "outputs": [
    {
     "data": {
      "text/plain": [
       "0.9491817984156692"
      ]
     },
     "execution_count": 11,
     "metadata": {},
     "output_type": "execute_result"
    }
   ],
   "source": [
    "s(100, 7, 0.7)"
   ]
  },
  {
   "cell_type": "markdown",
   "metadata": {},
   "source": [
    "**3**. (40 points)\n",
    "\n",
    "Given matrix $M$\n",
    "```python\n",
    "      [[7, 8, 8],\n",
    "       [1, 3, 8],\n",
    "       [9, 2, 1]]\n",
    "```\n",
    "\n",
    "- Normalize the given matrix $M$ so that all rows sum to 1.0.  (5 points)\n",
    "- The normalized matrix can then be considered as a transition matrix $P$ for a Markov chain. Find the stationary distribution of this matrix in the following ways using `numpy` and `numpy.linalg` (or `scipy.linalg`):\n",
    "    - By repeated matrix multiplication of a random probability vector $v$ (a row vector normalized to sum to 1.0) with $P$ using matrix multiplication with `np.dot`. (5 points)\n",
    "    - By raising the matrix $P$ to some large power until it doesn't change with higher powers (see `np.linalg.matrix_power`) and then calculating $vP$ (10 points)\n",
    "    - From the equation for stationarity $wP = w$, we can see that $w$ must be a left eigenvector of $P$ with eigenvalue $1$ (Note: np.linalg.eig returns the right eigenvectors, but the left eigenvector of a matrix is the right eigenvector of the transposed matrix). Use this to find $w$ using `np.linalg.eig`. (20 points)\n",
    "\n",
    "Suppose $w = (w_1, w_2, w_3)$. Then from $wP = w$, we have:\n",
    "\\begin{align}\n",
    "w_1 P_{11} + w_2 P_{21} + w_3 P_{31} &= w_1 \\\\\n",
    "w_1 P_{12} + w_2 P_{22} + w_3 P_{32} &= w_2 \\\\\n",
    "w_1 P_{13} + w_2 P_{23} + w_3 P_{331} &= w_3 \\\\\n",
    "\\end{align}\n",
    "This is a singular system, but we also know that $w_1 + w_2 + w_3 = 1$. Use these facts to set up a linear system of equations that can be solved with `np.linalg.solve` to find $w$."
   ]
  },
  {
   "cell_type": "markdown",
   "metadata": {},
   "source": [
    "**Part 1**"
   ]
  },
  {
   "cell_type": "code",
   "execution_count": 12,
   "metadata": {},
   "outputs": [
    {
     "data": {
      "text/plain": [
       "array([[7., 8., 8.],\n",
       "       [1., 3., 8.],\n",
       "       [9., 2., 1.]])"
      ]
     },
     "execution_count": 12,
     "metadata": {},
     "output_type": "execute_result"
    }
   ],
   "source": [
    "M = np.array([7,8,8,1,3,8,9,2,1.0]).reshape(3,3)\n",
    "M"
   ]
  },
  {
   "cell_type": "code",
   "execution_count": 13,
   "metadata": {},
   "outputs": [
    {
     "data": {
      "text/plain": [
       "array([[0.30434783, 0.34782609, 0.34782609],\n",
       "       [0.08333333, 0.25      , 0.66666667],\n",
       "       [0.75      , 0.16666667, 0.08333333]])"
      ]
     },
     "execution_count": 13,
     "metadata": {},
     "output_type": "execute_result"
    }
   ],
   "source": [
    "# Normalize the matrix so that rows sum to 1\n",
    "P = M/np.sum(M, 1)[:, np.newaxis]\n",
    "P"
   ]
  },
  {
   "cell_type": "markdown",
   "metadata": {},
   "source": [
    "**Part 2**"
   ]
  },
  {
   "cell_type": "code",
   "execution_count": 14,
   "metadata": {},
   "outputs": [
    {
     "data": {
      "text/plain": [
       "array([0.07208584, 0.47664814, 0.45126603])"
      ]
     },
     "execution_count": 14,
     "metadata": {},
     "output_type": "execute_result"
    }
   ],
   "source": [
    "v = np.random.random(3)\n",
    "v /= v.sum()\n",
    "v"
   ]
  },
  {
   "cell_type": "code",
   "execution_count": 15,
   "metadata": {},
   "outputs": [
    {
     "data": {
      "text/plain": [
       "array([0.39862184, 0.2605972 , 0.34078096])"
      ]
     },
     "execution_count": 15,
     "metadata": {},
     "output_type": "execute_result"
    }
   ],
   "source": [
    "# By raising the matrix $P$ to some large power \n",
    "P50 = np.linalg.matrix_power(P, 50)\n",
    "P51 = np.dot(P50, P)\n",
    "# check that P50 is stationary\n",
    "np.testing.assert_allclose(P50, P51)\n",
    "np.dot(v, P51)"
   ]
  },
  {
   "cell_type": "markdown",
   "metadata": {},
   "source": [
    "**Part 3**"
   ]
  },
  {
   "cell_type": "code",
   "execution_count": 16,
   "metadata": {},
   "outputs": [],
   "source": [
    "import scipy.linalg as la"
   ]
  },
  {
   "cell_type": "code",
   "execution_count": 17,
   "metadata": {},
   "outputs": [
    {
     "data": {
      "text/plain": [
       "array([0.39862184, 0.2605972 , 0.34078096])"
      ]
     },
     "execution_count": 17,
     "metadata": {},
     "output_type": "execute_result"
    }
   ],
   "source": [
    "lam, vec = la.eig(P, left=True, right=False)\n",
    "idx = np.argmin(np.abs(lam - 1))\n",
    "w = np.real(vec[:, idx])\n",
    "w/w.sum()"
   ]
  },
  {
   "cell_type": "code",
   "execution_count": 18,
   "metadata": {},
   "outputs": [
    {
     "data": {
      "text/plain": [
       "array([0.39862184, 0.2605972 , 0.34078096])"
      ]
     },
     "execution_count": 18,
     "metadata": {},
     "output_type": "execute_result"
    }
   ],
   "source": [
    "# Left eigenvector with eigenvalue 1\n",
    "# note transpose of P to find left eigenvectors\n",
    "eigenvalues, eigenvectors = np.linalg.eig(P.T) \n",
    "# find index of eigenvalue = 1 \n",
    "idx = np.argmin(np.abs(eigenvalues - 1))\n",
    "w = np.real(eigenvectors[:, idx]).T\n",
    "# remember to normalize eigenvector to get a probability distribution\n",
    "w/np.sum(w)"
   ]
  },
  {
   "cell_type": "markdown",
   "metadata": {},
   "source": [
    "**Part 4**"
   ]
  },
  {
   "cell_type": "markdown",
   "metadata": {},
   "source": [
    "We want to solve\n",
    "\n",
    "\\begin{align}\n",
    "w_1 P_{11} + w_2 P_{21} + w_3 P_{31} &= w_1 \\\\\n",
    "w_1 P_{12} + w_2 P_{22} + w_3 P_{32} &= w_2 \\\\\n",
    "w_1 + w_2 + w_3 &= 1\n",
    "\\end{align}\n",
    "\n",
    "In matrix form, we have\n",
    "\n",
    "$$\n",
    "\\begin{pmatrix}\n",
    "P_{11} - 1 & P_{21} & P_{31}\\\\\n",
    "P_{12} & P_{22} -1 & P_{32} \\\\\n",
    "1 & 1 & 1\n",
    "\\end{pmatrix}\n",
    "\\begin{pmatrix}\n",
    "w_1 \\\\\n",
    "w_2 \\\\\n",
    "w_3\n",
    "\\end{pmatrix}\n",
    " = \n",
    "\\begin{pmatrix}\n",
    "0 \\\\ 0 \\\\ 1\n",
    "\\end{pmatrix}\n",
    "$$\n",
    "\n",
    "Knowing this, it is just a matter of setting up the system for `np.linalg.solve` to work."
   ]
  },
  {
   "cell_type": "code",
   "execution_count": 19,
   "metadata": {},
   "outputs": [
    {
     "data": {
      "text/plain": [
       "array([0.39862184, 0.2605972 , 0.34078096])"
      ]
     },
     "execution_count": 19,
     "metadata": {},
     "output_type": "execute_result"
    }
   ],
   "source": [
    "# Solving linear system\n",
    "# Use the first 2 rows of  the matrix P - I = 0\n",
    "# and construnct the last row from $w_1 + w_2 + w_3 = 1$\n",
    "A = P.T - np.eye(3)\n",
    "A[2] = [1,1,1]\n",
    "np.linalg.solve(A, [0,0,1])"
   ]
  },
  {
   "cell_type": "code",
   "execution_count": null,
   "metadata": {},
   "outputs": [],
   "source": []
  }
 ],
 "metadata": {
  "kernelspec": {
   "display_name": "Python 3",
   "language": "python",
   "name": "python3"
  },
  "language_info": {
   "codemirror_mode": {
    "name": "ipython",
    "version": 3
   },
   "file_extension": ".py",
   "mimetype": "text/x-python",
   "name": "python",
   "nbconvert_exporter": "python",
   "pygments_lexer": "ipython3",
   "version": "3.7.0"
  }
 },
 "nbformat": 4,
 "nbformat_minor": 2
}
