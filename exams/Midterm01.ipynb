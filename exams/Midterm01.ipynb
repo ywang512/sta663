{
 "cells": [
  {
   "cell_type": "markdown",
   "metadata": {},
   "source": [
    "# Midterm Exam 01\n",
    "\n",
    "- This is a closed book exam\n",
    "- You should only ever have a SINGLE browser tab open\n",
    "- The exam lasts 75 minutes, and Sakai will not accept late submissions\n",
    "- You may use the following:\n",
    "\n",
    "    - TAB completion\n",
    "    - SHIFT-TAB completion for function arguments\n",
    "    - help(func), `?func`, `func?` to get help on `func`\n",
    "    \n",
    "- To create a new cell, use `ESC-A` or `ESC-B`"
   ]
  },
  {
   "cell_type": "markdown",
   "metadata": {},
   "source": [
    "## Duke Honor Code\n",
    "\n",
    "By taking this exam, you agree to abide by the Duke Honor Code."
   ]
  },
  {
   "cell_type": "markdown",
   "metadata": {},
   "source": [
    "### All necessary imports have been made for you"
   ]
  },
  {
   "cell_type": "code",
   "execution_count": 1,
   "metadata": {},
   "outputs": [],
   "source": [
    "%matplotlib inline\n",
    "import matplotlib.pyplot as plt\n",
    "import seaborn as sns\n",
    "import numpy as np\n",
    "import itertools as it\n",
    "import pandas as pd\n",
    "from string import punctuation\n",
    "import re"
   ]
  },
  {
   "cell_type": "markdown",
   "metadata": {},
   "source": [
    "**1**. (30 points)\n",
    "\n",
    "- Write a function to find where f(x) crosses zero using a bisection algorithm. The bisection algorithm works in the following way - given the left and right boundary, it checks if the crossing is between left and mid-point, or between the right and mid-point. If the former, the mid-point is set as the new right boundary and so on. In other words the interval containing the crossing is halved at each step. Stop when the length of the interval is less than 1e-6, and return the left and right boundaries at that point.\n",
    "    - The function should have the signature `bisect(f, left=0, right=1, tol=1e-6)`\n",
    "    - Use `bisect` to find the left and right intervals containing a zero (root) of the function $x^3 + 4x^2 - 1$ between 0 and 1.\n",
    "    - <font color=red>Hint</font>: If the crossing is between left and right, the function evaluated at left and right must have opposite signs. (20 points)\n",
    "\n",
    "- Plot the function together with a horizontal line for $y=0$ and a red circle at the root whose coordinates are (`left`, 0). The x-limits of the plot should be 0 and 1. (10 points)"
   ]
  },
  {
   "cell_type": "code",
   "execution_count": null,
   "metadata": {},
   "outputs": [],
   "source": [
    "\n",
    "\n",
    "\n"
   ]
  },
  {
   "cell_type": "markdown",
   "metadata": {},
   "source": [
    "The following question require you to process the following books: `austen-emma.txt`, `austen-persuasion.txt` and `austen-sense.txt` in the `data` folder."
   ]
  },
  {
   "cell_type": "code",
   "execution_count": 7,
   "metadata": {},
   "outputs": [],
   "source": [
    "books = ['data/austen-emma.txt',\n",
    "         'data/austen-persuasion.txt', \n",
    "         'data/austen-sense.txt']"
   ]
  },
  {
   "cell_type": "markdown",
   "metadata": {},
   "source": [
    "**2**. (15 points)\n",
    "\n",
    "- Write a function to pre-process a string argument by removing punctuation and converting to lower case (5 points)\n",
    "- Write a function to read in a single text file (given the file path as argument) and return the pre-processed text in that file as a single string (5 points)\n",
    "- Write a function that takes as argument a list of words and returns a dictionary where the key is a word and the value is the word count. (5 points)"
   ]
  },
  {
   "cell_type": "code",
   "execution_count": null,
   "metadata": {},
   "outputs": [],
   "source": [
    "\n",
    "\n",
    "\n"
   ]
  },
  {
   "cell_type": "markdown",
   "metadata": {},
   "source": [
    "**3** (15 points)\n",
    "\n",
    "- Create a dictionary where the keys are the book titles and the values are the pre-processed text of each book (5 point)\n",
    "- Create a dictionary where the keys are the book titles and the values are all the words (including repetitions) in each book, where a word is any token split by white space after pre-processing (5 points)\n",
    "- Create a vocabulary of unique words (combining all words from the 3 books) and print the 3 most common words and their counts (5 points)"
   ]
  },
  {
   "cell_type": "code",
   "execution_count": null,
   "metadata": {},
   "outputs": [],
   "source": [
    "\n",
    "\n",
    "\n"
   ]
  },
  {
   "cell_type": "markdown",
   "metadata": {},
   "source": [
    "**4** (15 points)\n",
    "\n",
    "- Create a data frame where the rows are unique words, the columns are books, and the cells are counts of each word in each book (15 points)\n",
    "\n",
    "Note: It is ok if some entries are NaN for now."
   ]
  },
  {
   "cell_type": "code",
   "execution_count": null,
   "metadata": {},
   "outputs": [],
   "source": [
    "\n",
    "\n",
    "\n"
   ]
  },
  {
   "cell_type": "markdown",
   "metadata": {},
   "source": [
    "<font color=red>Note: </font>If you are not able to create the data frame, use this one `data/bag_of_words.csv` "
   ]
  },
  {
   "cell_type": "markdown",
   "metadata": {},
   "source": [
    "**5**. (15 points)\n",
    "\n",
    "- Display the 5 rows with the largest row minimums (5 points)\n",
    "- Drop all rows where the count in ANY column is 0, and report the number of rows left (5 points)\n",
    "- Normalize the data frame so that each row sums to 1 - i.e. each cell contains the relative fraction of the row word across the 3 books (5 points)"
   ]
  },
  {
   "cell_type": "code",
   "execution_count": null,
   "metadata": {},
   "outputs": [],
   "source": [
    "\n",
    "\n",
    "\n"
   ]
  },
  {
   "cell_type": "markdown",
   "metadata": {},
   "source": [
    "**6**. (10 points)\n",
    "\n",
    "- Use a regular expression to extract only rows with words that contain 3 or more vowels (5 points)\n",
    "- Save the data frame as a CSV file in the `data` folder - the CSV file should have the following columns (`word`, `austen-emma.txt`, `austen-persuasion.txt`, and `austen-sense.txt`). Run `!head data/vowel_rich.txt` to check that the CSV file looks like you expect it to. (5 points)"
   ]
  },
  {
   "cell_type": "code",
   "execution_count": null,
   "metadata": {},
   "outputs": [],
   "source": [
    "\n",
    "\n",
    "\n"
   ]
  }
 ],
 "metadata": {
  "kernelspec": {
   "display_name": "Python 3",
   "language": "python",
   "name": "python3"
  },
  "language_info": {
   "codemirror_mode": {
    "name": "ipython",
    "version": 3
   },
   "file_extension": ".py",
   "mimetype": "text/x-python",
   "name": "python",
   "nbconvert_exporter": "python",
   "pygments_lexer": "ipython3",
   "version": "3.7.0"
  }
 },
 "nbformat": 4,
 "nbformat_minor": 2
}
