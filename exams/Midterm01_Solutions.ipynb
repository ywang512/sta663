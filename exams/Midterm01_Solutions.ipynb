{
 "cells": [
  {
   "cell_type": "markdown",
   "metadata": {},
   "source": [
    "# Midterm Exam 01\n",
    "\n",
    "- This is a closed book exam\n",
    "- You should only ever have a SINGLE browser tab open\n",
    "- The exam lasts 75 minutes, and Sakai will not accept late submissions\n",
    "- You may use the following:\n",
    "\n",
    "    - TAB completion\n",
    "    - SHIFT-TAB completion for function arguments\n",
    "    - help(func), `?func`, `func?` to get help on `func`\n",
    "    \n",
    "- To create a new cell, use `ESC-A` or `ESC-B`"
   ]
  },
  {
   "cell_type": "markdown",
   "metadata": {},
   "source": [
    "## Duke Honor Code\n",
    "\n",
    "By taking this exam, you agree to abide by the Duke Honor Code."
   ]
  },
  {
   "cell_type": "markdown",
   "metadata": {},
   "source": [
    "### All necessary imports have been made for you"
   ]
  },
  {
   "cell_type": "code",
   "execution_count": 1,
   "metadata": {},
   "outputs": [],
   "source": [
    "%matplotlib inline\n",
    "import matplotlib.pyplot as plt\n",
    "import seaborn as sns\n",
    "import numpy as np\n",
    "import itertools as it\n",
    "import pandas as pd\n",
    "from string import punctuation\n",
    "import re"
   ]
  },
  {
   "cell_type": "markdown",
   "metadata": {},
   "source": [
    "**1**. (30 points)\n",
    "\n",
    "- Write a function to find where f(x) crosses zero using a bisection algorithm. The bisection algorithm works in the following way - given the left and right boundary, it checks if the crossing is between left and mid-point, or between the right and mid-point. If the former, the mid-point is set as the new right boundary and so on. In other words the interval containing the crossing is halved at each step. Stop when the length of the interval is less than 1e-6, and return the left and right boundaries at that point.\n",
    "    - The function should have the signature `bisect(f, left=0, right=1, tol=1e-6)`\n",
    "    - Use `bisect` to find the left and right intervals containing a zero (root) of the function $x^3 + 4x^2 - 1$ between 0 and 1.\n",
    "    - <font color=red>Hint</font>: If the crossing is between left and right, the function evaluated at left and right must have opposite signs. (20 points)\n",
    "\n",
    "- Plot the function together with a horizontal line for $y=0$ and a red circle at the root whose coordinates are (`left`, 0). The x-limits of the plot should be 0 and 1. (10 points)"
   ]
  },
  {
   "cell_type": "code",
   "execution_count": 2,
   "metadata": {},
   "outputs": [],
   "source": [
    "def bisect(f, left=0, right=1, tol=1e-6):\n",
    "    \"\"\"Docstring\"\"\"\n",
    "    \n",
    "    if f(left) * f(right) > 0:\n",
    "        return None\n",
    "    \n",
    "    mid = (left + right)/2\n",
    "    err = abs(right - left)\n",
    "    \n",
    "    i = 0\n",
    "    \n",
    "    while (err > tol) and (i < 1000):\n",
    "        i += 1\n",
    "        \n",
    "        if f(mid) == 0:\n",
    "            return (mid, mid)\n",
    "        \n",
    "        if f(left) * f(mid) < 0:\n",
    "            right = mid\n",
    "        else:\n",
    "            left = mid\n",
    "        \n",
    "        mid = (left + right)/2\n",
    "        err = abs(right - left)\n",
    "        \n",
    "    return (left, right)"
   ]
  },
  {
   "cell_type": "code",
   "execution_count": 3,
   "metadata": {},
   "outputs": [],
   "source": [
    "f = lambda x: x**3 + 4*x**2 -1"
   ]
  },
  {
   "cell_type": "code",
   "execution_count": 4,
   "metadata": {},
   "outputs": [
    {
     "data": {
      "text/plain": [
       "(0.47283363342285156, 0.47283458709716797)"
      ]
     },
     "execution_count": 4,
     "metadata": {},
     "output_type": "execute_result"
    }
   ],
   "source": [
    "left, right = bisect(f)\n",
    "left, right"
   ]
  },
  {
   "cell_type": "code",
   "execution_count": 5,
   "metadata": {},
   "outputs": [
    {
     "data": {
      "image/png": "[encoded data removed]",
      "text/plain": [
       "<Figure size 432x288 with 1 Axes>"
      ]
     },
     "metadata": {
      "needs_background": "light"
     },
     "output_type": "display_data"
    }
   ],
   "source": [
    "xp = np.linspace(0, 1, 100)\n",
    "plt.plot(xp, f(xp))\n",
    "plt.axhline(0)\n",
    "plt.scatter([left], [0], c='red')\n",
    "pass"
   ]
  },
  {
   "cell_type": "markdown",
   "metadata": {},
   "source": [
    "The following question require you to process the following books: `austen-emma.txt`, `austen-persuasion.txt` and `austen-sense.txt` in the `data` folder."
   ]
  },
  {
   "cell_type": "code",
   "execution_count": 6,
   "metadata": {},
   "outputs": [],
   "source": [
    "books = ['data/austen-emma.txt',\n",
    "         'data/austen-persuasion.txt', \n",
    "         'data/austen-sense.txt']"
   ]
  },
  {
   "cell_type": "markdown",
   "metadata": {},
   "source": [
    "**2**. (15 points)\n",
    "\n",
    "- Write a function to pre-process a string argument by removing punctuation and converting to lower case (5 points)\n",
    "- Write a function to read in a single text file (given the file path as argument) and return the pre-processed text in that file as a single string (5 points)\n",
    "- Write a function that takes as argument a list of words and returns a dictionary where the key is a word and the value is the word count. (5 points)"
   ]
  },
  {
   "cell_type": "code",
   "execution_count": 7,
   "metadata": {},
   "outputs": [],
   "source": [
    "def preprocess(s):\n",
    "    \"\"\"Docstring.\"\"\"\n",
    "\n",
    "    return s.translate(str.maketrans('', '', punctuation)).lower()"
   ]
  },
  {
   "cell_type": "code",
   "execution_count": 8,
   "metadata": {},
   "outputs": [],
   "source": [
    "def read_text(path):\n",
    "    \"\"\"Docstring.\"\"\"\n",
    "    \n",
    "    with open(path) as f:\n",
    "        return preprocess(f.read())"
   ]
  },
  {
   "cell_type": "code",
   "execution_count": 9,
   "metadata": {},
   "outputs": [],
   "source": [
    "def count_words(words):\n",
    "    \"\"\"Docstring.\"\"\"\n",
    "    \n",
    "    d = {}\n",
    "    for word in words:\n",
    "        d[word] = d.get(word, 0) + 1\n",
    "    return d"
   ]
  },
  {
   "cell_type": "markdown",
   "metadata": {},
   "source": [
    "**3** (15 points)\n",
    "\n",
    "- Create a dictionary where the keys are the book titles and the values are the pre-processed text of each book (5 point)\n",
    "- Create a dictionary where the keys are the book titles and the values are all the words (including repetitions) in each book, where a word is any token split by white space after pre-processing (5 points)\n",
    "- Create a vocabulary of unique words (combining all words from the 3 books) and print the 3 most common words and their counts (5 points)"
   ]
  },
  {
   "cell_type": "code",
   "execution_count": 10,
   "metadata": {},
   "outputs": [],
   "source": [
    "text_dict = {}\n",
    "for book in books:\n",
    "    text_dict[book] = read_text(book)"
   ]
  },
  {
   "cell_type": "code",
   "execution_count": 11,
   "metadata": {},
   "outputs": [],
   "source": [
    "word_dict = {book: read_text(book).split() for book in books}"
   ]
  },
  {
   "cell_type": "code",
   "execution_count": 12,
   "metadata": {},
   "outputs": [],
   "source": [
    "words = it.chain.from_iterable(word_dict.values())\n",
    "vocab_count = count_words(words)"
   ]
  },
  {
   "cell_type": "code",
   "execution_count": 13,
   "metadata": {},
   "outputs": [
    {
     "data": {
      "text/plain": [
       "[('the', 12559), ('to', 12017), ('and', 10794)]"
      ]
     },
     "execution_count": 13,
     "metadata": {},
     "output_type": "execute_result"
    }
   ],
   "source": [
    "sorted(vocab_count.items(), key=lambda x: x[1], reverse=True)[:3]"
   ]
  },
  {
   "cell_type": "markdown",
   "metadata": {},
   "source": [
    "**4** (15 points)\n",
    "\n",
    "- Create a data frame where the rows are unique words, the columns are books, and the cells are counts of each word in each book (15 points)\n",
    "\n",
    "Note: It is ok if some entries are NaN for now."
   ]
  },
  {
   "cell_type": "code",
   "execution_count": 14,
   "metadata": {},
   "outputs": [],
   "source": [
    "counts = {book: count_words(words) for book, words in word_dict.items()}    \n",
    "df = pd.DataFrame(counts)"
   ]
  },
  {
   "cell_type": "markdown",
   "metadata": {},
   "source": [
    "<font color=red>Note: </font>If you are not able to create the data frame, use this one `data/bag_of_words.csv` "
   ]
  },
  {
   "cell_type": "markdown",
   "metadata": {},
   "source": [
    "**5**. (15 points)\n",
    "\n",
    "- Display the 5 rows with the largest row minimums (5 points)\n",
    "- Drop all rows where the count in ANY column is 0, and report the number of rows left (5 points)\n",
    "- Normalize the data frame so that each row sums to 1 - i.e. each cell contains the relative fraction of the row word across the 3 books (5 points)"
   ]
  },
  {
   "cell_type": "code",
   "execution_count": 15,
   "metadata": {},
   "outputs": [
    {
     "data": {
      "text/html": [
       "<div>\n",
       "<style scoped>\n",
       "    .dataframe tbody tr th:only-of-type {\n",
       "        vertical-align: middle;\n",
       "    }\n",
       "\n",
       "    .dataframe tbody tr th {\n",
       "        vertical-align: top;\n",
       "    }\n",
       "\n",
       "    .dataframe thead th {\n",
       "        text-align: right;\n",
       "    }\n",
       "</style>\n",
       "<table border=\"1\" class=\"dataframe\">\n",
       "  <thead>\n",
       "    <tr style=\"text-align: right;\">\n",
       "      <th></th>\n",
       "      <th>data/austen-emma.txt</th>\n",
       "      <th>data/austen-persuasion.txt</th>\n",
       "      <th>data/austen-sense.txt</th>\n",
       "      <th>min</th>\n",
       "    </tr>\n",
       "  </thead>\n",
       "  <tbody>\n",
       "    <tr>\n",
       "      <th>the</th>\n",
       "      <td>5146.0</td>\n",
       "      <td>3326.0</td>\n",
       "      <td>4087.0</td>\n",
       "      <td>3326.0</td>\n",
       "    </tr>\n",
       "    <tr>\n",
       "      <th>to</th>\n",
       "      <td>5149.0</td>\n",
       "      <td>2782.0</td>\n",
       "      <td>4086.0</td>\n",
       "      <td>2782.0</td>\n",
       "    </tr>\n",
       "    <tr>\n",
       "      <th>and</th>\n",
       "      <td>4613.0</td>\n",
       "      <td>2782.0</td>\n",
       "      <td>3399.0</td>\n",
       "      <td>2782.0</td>\n",
       "    </tr>\n",
       "  </tbody>\n",
       "</table>\n",
       "</div>"
      ],
      "text/plain": [
       "     data/austen-emma.txt  data/austen-persuasion.txt  data/austen-sense.txt  \\\n",
       "the                5146.0                      3326.0                 4087.0   \n",
       "to                 5149.0                      2782.0                 4086.0   \n",
       "and                4613.0                      2782.0                 3399.0   \n",
       "\n",
       "        min  \n",
       "the  3326.0  \n",
       "to   2782.0  \n",
       "and  2782.0  "
      ]
     },
     "execution_count": 15,
     "metadata": {},
     "output_type": "execute_result"
    }
   ],
   "source": [
    "df['min'] = df.min(axis=1)\n",
    "df.sort_values('min', ascending=False)[:3]"
   ]
  },
  {
   "cell_type": "code",
   "execution_count": 16,
   "metadata": {},
   "outputs": [],
   "source": [
    "df = df.drop('min', axis=1)"
   ]
  },
  {
   "cell_type": "code",
   "execution_count": 17,
   "metadata": {},
   "outputs": [
    {
     "data": {
      "text/plain": [
       "(3318, 3)"
      ]
     },
     "execution_count": 17,
     "metadata": {},
     "output_type": "execute_result"
    }
   ],
   "source": [
    "df = df.dropna()\n",
    "df.shape"
   ]
  },
  {
   "cell_type": "code",
   "execution_count": 18,
   "metadata": {},
   "outputs": [],
   "source": [
    "row_sums = df.apply('sum', axis=1)\n",
    "df = df.divide(row_sums, axis=0)"
   ]
  },
  {
   "cell_type": "code",
   "execution_count": 19,
   "metadata": {},
   "outputs": [
    {
     "data": {
      "text/html": [
       "<div>\n",
       "<style scoped>\n",
       "    .dataframe tbody tr th:only-of-type {\n",
       "        vertical-align: middle;\n",
       "    }\n",
       "\n",
       "    .dataframe tbody tr th {\n",
       "        vertical-align: top;\n",
       "    }\n",
       "\n",
       "    .dataframe thead th {\n",
       "        text-align: right;\n",
       "    }\n",
       "</style>\n",
       "<table border=\"1\" class=\"dataframe\">\n",
       "  <thead>\n",
       "    <tr style=\"text-align: right;\">\n",
       "      <th></th>\n",
       "      <th>data/austen-emma.txt</th>\n",
       "      <th>data/austen-persuasion.txt</th>\n",
       "      <th>data/austen-sense.txt</th>\n",
       "    </tr>\n",
       "  </thead>\n",
       "  <tbody>\n",
       "    <tr>\n",
       "      <th>a</th>\n",
       "      <td>0.457905</td>\n",
       "      <td>0.237073</td>\n",
       "      <td>0.305022</td>\n",
       "    </tr>\n",
       "    <tr>\n",
       "      <th>abilities</th>\n",
       "      <td>0.200000</td>\n",
       "      <td>0.200000</td>\n",
       "      <td>0.600000</td>\n",
       "    </tr>\n",
       "    <tr>\n",
       "      <th>able</th>\n",
       "      <td>0.468531</td>\n",
       "      <td>0.209790</td>\n",
       "      <td>0.321678</td>\n",
       "    </tr>\n",
       "    <tr>\n",
       "      <th>abode</th>\n",
       "      <td>0.142857</td>\n",
       "      <td>0.142857</td>\n",
       "      <td>0.714286</td>\n",
       "    </tr>\n",
       "    <tr>\n",
       "      <th>about</th>\n",
       "      <td>0.505133</td>\n",
       "      <td>0.199179</td>\n",
       "      <td>0.295688</td>\n",
       "    </tr>\n",
       "  </tbody>\n",
       "</table>\n",
       "</div>"
      ],
      "text/plain": [
       "           data/austen-emma.txt  data/austen-persuasion.txt  \\\n",
       "a                      0.457905                    0.237073   \n",
       "abilities              0.200000                    0.200000   \n",
       "able                   0.468531                    0.209790   \n",
       "abode                  0.142857                    0.142857   \n",
       "about                  0.505133                    0.199179   \n",
       "\n",
       "           data/austen-sense.txt  \n",
       "a                       0.305022  \n",
       "abilities               0.600000  \n",
       "able                    0.321678  \n",
       "abode                   0.714286  \n",
       "about                   0.295688  "
      ]
     },
     "execution_count": 19,
     "metadata": {},
     "output_type": "execute_result"
    }
   ],
   "source": [
    "df.head()"
   ]
  },
  {
   "cell_type": "markdown",
   "metadata": {},
   "source": [
    "**6**. (10 points)\n",
    "\n",
    "- Use a regular expression to extract only rows with words that contain 3 or more vowels (5 points)\n",
    "- Save the data frame as a CSV file in the `data` folder - the CSV file should have the following columns (`word`, `austen-emma.txt`, `austen-persuasion.txt`, and `austen-sense.txt`). Run `!head data/vowel_rich.txt` to check that the CSV file looks like you expect it to. (5 points)"
   ]
  },
  {
   "cell_type": "code",
   "execution_count": 20,
   "metadata": {},
   "outputs": [
    {
     "data": {
      "text/html": [
       "<div>\n",
       "<style scoped>\n",
       "    .dataframe tbody tr th:only-of-type {\n",
       "        vertical-align: middle;\n",
       "    }\n",
       "\n",
       "    .dataframe tbody tr th {\n",
       "        vertical-align: top;\n",
       "    }\n",
       "\n",
       "    .dataframe thead th {\n",
       "        text-align: right;\n",
       "    }\n",
       "</style>\n",
       "<table border=\"1\" class=\"dataframe\">\n",
       "  <thead>\n",
       "    <tr style=\"text-align: right;\">\n",
       "      <th></th>\n",
       "      <th>data/austen-emma.txt</th>\n",
       "      <th>data/austen-persuasion.txt</th>\n",
       "      <th>data/austen-sense.txt</th>\n",
       "    </tr>\n",
       "    <tr>\n",
       "      <th>word</th>\n",
       "      <th></th>\n",
       "      <th></th>\n",
       "      <th></th>\n",
       "    </tr>\n",
       "  </thead>\n",
       "  <tbody>\n",
       "    <tr>\n",
       "      <th>abilities</th>\n",
       "      <td>0.200000</td>\n",
       "      <td>0.200000</td>\n",
       "      <td>0.600000</td>\n",
       "    </tr>\n",
       "    <tr>\n",
       "      <th>abode</th>\n",
       "      <td>0.142857</td>\n",
       "      <td>0.142857</td>\n",
       "      <td>0.714286</td>\n",
       "    </tr>\n",
       "    <tr>\n",
       "      <th>about</th>\n",
       "      <td>0.505133</td>\n",
       "      <td>0.199179</td>\n",
       "      <td>0.295688</td>\n",
       "    </tr>\n",
       "    <tr>\n",
       "      <th>above</th>\n",
       "      <td>0.315789</td>\n",
       "      <td>0.157895</td>\n",
       "      <td>0.526316</td>\n",
       "    </tr>\n",
       "    <tr>\n",
       "      <th>abroad</th>\n",
       "      <td>0.300000</td>\n",
       "      <td>0.250000</td>\n",
       "      <td>0.450000</td>\n",
       "    </tr>\n",
       "  </tbody>\n",
       "</table>\n",
       "</div>"
      ],
      "text/plain": [
       "           data/austen-emma.txt  data/austen-persuasion.txt  \\\n",
       "word                                                          \n",
       "abilities              0.200000                    0.200000   \n",
       "abode                  0.142857                    0.142857   \n",
       "about                  0.505133                    0.199179   \n",
       "above                  0.315789                    0.157895   \n",
       "abroad                 0.300000                    0.250000   \n",
       "\n",
       "           data/austen-sense.txt  \n",
       "word                              \n",
       "abilities               0.600000  \n",
       "abode                   0.714286  \n",
       "about                   0.295688  \n",
       "above                   0.526316  \n",
       "abroad                  0.450000  "
      ]
     },
     "execution_count": 20,
     "metadata": {},
     "output_type": "execute_result"
    }
   ],
   "source": [
    "idx = df.index.str.match('(.*[aeiou].*){3,}', case=False)\n",
    "vowel_rich = df[idx]\n",
    "vowel_rich.index.name = 'word'\n",
    "vowel_rich.head()"
   ]
  },
  {
   "cell_type": "code",
   "execution_count": 21,
   "metadata": {},
   "outputs": [],
   "source": [
    "vowel_rich.to_csv('data/vowel_rich.txt')"
   ]
  },
  {
   "cell_type": "code",
   "execution_count": 22,
   "metadata": {},
   "outputs": [
    {
     "name": "stdout",
     "output_type": "stream",
     "text": [
      "word,data/austen-emma.txt,data/austen-persuasion.txt,data/austen-sense.txt\r\n",
      "abilities,0.2,0.2,0.6\r\n",
      "abode,0.14285714285714285,0.14285714285714285,0.7142857142857143\r\n",
      "about,0.5051334702258727,0.19917864476386038,0.29568788501026694\r\n",
      "above,0.3157894736842105,0.15789473684210525,0.5263157894736842\r\n",
      "abroad,0.3,0.25,0.45\r\n",
      "absence,0.4411764705882353,0.2647058823529412,0.29411764705882354\r\n",
      "absolute,0.3333333333333333,0.3333333333333333,0.3333333333333333\r\n",
      "absolutely,0.6875,0.10416666666666667,0.20833333333333334\r\n",
      "absurdity,0.16666666666666666,0.16666666666666666,0.6666666666666666\r\n"
     ]
    }
   ],
   "source": [
    "! head data/vowel_rich.txt"
   ]
  },
  {
   "cell_type": "code",
   "execution_count": null,
   "metadata": {},
   "outputs": [],
   "source": []
  }
 ],
 "metadata": {
  "kernelspec": {
   "display_name": "Python 3",
   "language": "python",
   "name": "python3"
  },
  "language_info": {
   "codemirror_mode": {
    "name": "ipython",
    "version": 3
   },
   "file_extension": ".py",
   "mimetype": "text/x-python",
   "name": "python",
   "nbconvert_exporter": "python",
   "pygments_lexer": "ipython3",
   "version": "3.7.0"
  }
 },
 "nbformat": 4,
 "nbformat_minor": 2
}
