{
 "cells": [
  {
   "cell_type": "markdown",
   "metadata": {},
   "source": [
    "# Mock Midterm Exam 01\n",
    "\n",
    "- This is a closed book exam\n",
    "- You should only ever have a SINGLE browser tab open\n",
    "- The exam lasts 75 minutes, and Sakai will not accept late submissions\n",
    "- You may use the following:\n",
    "\n",
    "    - TAB completion\n",
    "    - SHIFT-TAB completion for function arguments\n",
    "    - help(func), `?func`, `func?` to get help on `func`\n",
    "    \n",
    "- To create a new cell, use `ESC-A` or `ESC-B`"
   ]
  },
  {
   "cell_type": "markdown",
   "metadata": {},
   "source": [
    "## Duke Honor Code\n",
    "\n",
    "By taking this exam, you agree to abide by the Duke Honor Code."
   ]
  },
  {
   "cell_type": "markdown",
   "metadata": {},
   "source": [
    "### All necessary imports have been made for you"
   ]
  },
  {
   "cell_type": "code",
   "execution_count": 1,
   "metadata": {},
   "outputs": [],
   "source": [
    "%matplotlib inline\n",
    "import matplotlib.pyplot as plt\n",
    "import seaborn as sns\n",
    "import numpy as np\n",
    "import itertools as it\n",
    "import pandas as pd\n",
    "from string import punctuation\n",
    "import re"
   ]
  },
  {
   "cell_type": "code",
   "execution_count": 2,
   "metadata": {},
   "outputs": [],
   "source": [
    "import warnings\n",
    "\n",
    "warnings.simplefilter('ignore', UserWarning)"
   ]
  },
  {
   "cell_type": "markdown",
   "metadata": {},
   "source": [
    "**1**. (30 points)\n",
    "\n",
    "- Write a function to find the root of a function using the Newton-Raphson algorithm. The Newton-Raphson algorithm does the following iteration until the absolute value change between $x_n$ and $x_{n+1}$ is below a certain tolerance:\n",
    "$$\n",
    "x_{n+1} = x_{n} - \\frac{f(x_n)}{f'(x_n)}\n",
    "$$\n",
    "- The function should have the signature `newton_raphson(f, fprime, x, tol=1e-6)` \n",
    "- Use the function to find a root of $x^3 + 4x^2 - 1$, starting with $x = 1$ (20 points)\n",
    "- Plot the function together with a horizontal line for $y=0$ and a red circle at the root. The x-limits of the plot should be 0 and 1. (10 points)"
   ]
  },
  {
   "cell_type": "code",
   "execution_count": 3,
   "metadata": {},
   "outputs": [],
   "source": [
    "f = lambda x: x**3 +4*x**2 - 1\n",
    "fprime = lambda x: 3*x**2 + 8*x\n",
    "x = 1"
   ]
  },
  {
   "cell_type": "code",
   "execution_count": 4,
   "metadata": {},
   "outputs": [],
   "source": [
    "def newton_raphson(f, fprime, x, tol=1e-6):\n",
    "    \"\"\"Find intersection of f and g.\"\"\"\n",
    "      \n",
    "    xold = x\n",
    "    eps = np.infty\n",
    "    while eps > tol:\n",
    "        x = xold - f(xold)/fprime(xold)\n",
    "        eps = np.abs(x - xold)\n",
    "        xold = x\n",
    "    return x"
   ]
  },
  {
   "cell_type": "code",
   "execution_count": 5,
   "metadata": {},
   "outputs": [],
   "source": [
    "root = newton_raphson(f, fprime, 1)"
   ]
  },
  {
   "cell_type": "code",
   "execution_count": 6,
   "metadata": {},
   "outputs": [],
   "source": [
    "x = np.linspace(0, 1, 100)"
   ]
  },
  {
   "cell_type": "code",
   "execution_count": 7,
   "metadata": {},
   "outputs": [
    {
     "data": {
      "image/png": "[encoded data removed]",
      "text/plain": [
       "<Figure size 432x288 with 1 Axes>"
      ]
     },
     "metadata": {},
     "output_type": "display_data"
    }
   ],
   "source": [
    "plt.plot(x, f(x))\n",
    "plt.axhline(0)\n",
    "plt.scatter([root], [0], c='red')\n",
    "pass"
   ]
  },
  {
   "cell_type": "markdown",
   "metadata": {},
   "source": [
    "**2**. (10 points)\n",
    "\n",
    "- Assign to the variable `dna` the DNA sequence in the file `data/ecoli.fasta`, ignoring any lines that begin with the `>` character, and concatenate if necessary to have a single string with no whitespace or line breaks."
   ]
  },
  {
   "cell_type": "code",
   "execution_count": 8,
   "metadata": {},
   "outputs": [],
   "source": [
    "lines = []\n",
    "with open('data/ecoli.fasta') as f:\n",
    "    for line in f:\n",
    "        if line.startswith('>'):\n",
    "            continue\n",
    "        else:\n",
    "            lines.append(line.strip())\n",
    "dna = ''.join(lines)"
   ]
  },
  {
   "cell_type": "markdown",
   "metadata": {},
   "source": [
    "**3**. (10 points)\n",
    "\n",
    "- How many of each nucleotide are there in `dna`?"
   ]
  },
  {
   "cell_type": "code",
   "execution_count": 9,
   "metadata": {},
   "outputs": [],
   "source": [
    "nucs = set(dna)"
   ]
  },
  {
   "cell_type": "code",
   "execution_count": 10,
   "metadata": {},
   "outputs": [
    {
     "name": "stdout",
     "output_type": "stream",
     "text": [
      "T 360\n",
      "C 396\n",
      "G 406\n",
      "A 378\n"
     ]
    }
   ],
   "source": [
    "for nuc in nucs:\n",
    "    print(nuc, dna.count(nuc))"
   ]
  },
  {
   "cell_type": "markdown",
   "metadata": {},
   "source": [
    "**4**. (20 points)"
   ]
  },
  {
   "cell_type": "markdown",
   "metadata": {},
   "source": [
    "- Find the most common triplet in `dna` using a shifting window of length 3. Show all ties if there are any."
   ]
  },
  {
   "cell_type": "code",
   "execution_count": 11,
   "metadata": {},
   "outputs": [],
   "source": [
    "triplets = [''.join(ns) for ns in zip(dna, dna[1:], dna[2:])]\n",
    "d = {}\n",
    "for triplet in triplets:\n",
    "    d[triplet] = d.get(triplet, 0) + 1"
   ]
  },
  {
   "cell_type": "code",
   "execution_count": 12,
   "metadata": {},
   "outputs": [
    {
     "data": {
      "text/plain": [
       "('AAA', 48)"
      ]
     },
     "execution_count": 12,
     "metadata": {},
     "output_type": "execute_result"
    }
   ],
   "source": [
    "seq, top = max(d.items(), key=lambda x: x[1])\n",
    "seq, top"
   ]
  },
  {
   "cell_type": "code",
   "execution_count": 13,
   "metadata": {},
   "outputs": [
    {
     "data": {
      "text/plain": [
       "['AAA']"
      ]
     },
     "execution_count": 13,
     "metadata": {},
     "output_type": "execute_result"
    }
   ],
   "source": [
    "ties = [k for k, v in d.items() if v == top]\n",
    "ties"
   ]
  },
  {
   "cell_type": "markdown",
   "metadata": {},
   "source": [
    "**5**. (10 points)\n",
    "\n",
    "Find the shortest motif that begins and ends with a `T` and contains 3 or more `A`s using a regular expression."
   ]
  },
  {
   "cell_type": "markdown",
   "metadata": {},
   "source": [
    "### Wrong soluiton posted initally\n",
    "\n",
    "`findall` finds non-overlapping strings, so misses the correct subsequence."
   ]
  },
  {
   "cell_type": "code",
   "execution_count": 14,
   "metadata": {},
   "outputs": [],
   "source": [
    "pat = re.compile(r'T.*?A{3,}.*?T')"
   ]
  },
  {
   "cell_type": "code",
   "execution_count": 15,
   "metadata": {},
   "outputs": [],
   "source": [
    "motifs = pat.findall(dna)"
   ]
  },
  {
   "cell_type": "code",
   "execution_count": 16,
   "metadata": {},
   "outputs": [
    {
     "data": {
      "text/plain": [
       "'TAAAAT'"
      ]
     },
     "execution_count": 16,
     "metadata": {},
     "output_type": "execute_result"
    }
   ],
   "source": [
    "sorted(motifs, key=len)[0]"
   ]
  },
  {
   "cell_type": "markdown",
   "metadata": {},
   "source": [
    "### Corrected solution"
   ]
  },
  {
   "cell_type": "code",
   "execution_count": 17,
   "metadata": {},
   "outputs": [],
   "source": [
    "motifs = []\n",
    "i = 0\n",
    "while True:\n",
    "    m = pat.search(dna, pos=i)\n",
    "    if not m: \n",
    "        break\n",
    "    motifs.append(m.group())\n",
    "    i = m.start() + 1"
   ]
  },
  {
   "cell_type": "code",
   "execution_count": 18,
   "metadata": {},
   "outputs": [
    {
     "data": {
      "text/plain": [
       "'TAAAT'"
      ]
     },
     "execution_count": 18,
     "metadata": {},
     "output_type": "execute_result"
    }
   ],
   "source": [
    "sorted(motifs, key=len)[0]"
   ]
  },
  {
   "cell_type": "markdown",
   "metadata": {},
   "source": [
    "**6**. (10 points)\n",
    "\n",
    "Using the provided `iris` data set, generate the figure shown here using `sns.factorplot` with `kind=swarm`.\n",
    "\n",
    "![img](data/iris.png)"
   ]
  },
  {
   "cell_type": "code",
   "execution_count": 19,
   "metadata": {},
   "outputs": [],
   "source": [
    "iris = sns.load_dataset('iris')"
   ]
  },
  {
   "cell_type": "code",
   "execution_count": 20,
   "metadata": {},
   "outputs": [],
   "source": [
    "iris_tall = pd.melt(iris, id_vars=['species'])"
   ]
  },
  {
   "cell_type": "code",
   "execution_count": 21,
   "metadata": {},
   "outputs": [
    {
     "data": {
      "image/png": "[encoded data removed]",
      "text/plain": [
       "<Figure size 576x576 with 4 Axes>"
      ]
     },
     "metadata": {},
     "output_type": "display_data"
    }
   ],
   "source": [
    "sns.factorplot(data=iris_tall, kind='swarm',\n",
    "               x='species', y='value',\n",
    "               col='variable', col_wrap=2)\n",
    "pass"
   ]
  },
  {
   "cell_type": "markdown",
   "metadata": {},
   "source": [
    "**7**. (10 points)\n",
    "\n",
    "Scale the columns of the iris data frame so that each feature has mean 0 and standard deviation 1. Check that your scaled columns have zero mean and unit standard deviation."
   ]
  },
  {
   "cell_type": "code",
   "execution_count": 22,
   "metadata": {},
   "outputs": [],
   "source": [
    "mu = iris.apply('mean', axis=0)\n",
    "sd = iris.apply('std', axis=0)\n",
    "iris.iloc[:, :-1] = (iris.iloc[:, :-1] - mu)/(sd)"
   ]
  },
  {
   "cell_type": "code",
   "execution_count": 23,
   "metadata": {},
   "outputs": [
    {
     "data": {
      "text/plain": [
       "sepal_length   -5.684342e-16\n",
       "sepal_width    -7.815970e-16\n",
       "petal_length   -2.842171e-16\n",
       "petal_width    -3.789561e-16\n",
       "dtype: float64"
      ]
     },
     "execution_count": 23,
     "metadata": {},
     "output_type": "execute_result"
    }
   ],
   "source": [
    "iris.mean(axis=0)"
   ]
  },
  {
   "cell_type": "code",
   "execution_count": 24,
   "metadata": {},
   "outputs": [
    {
     "data": {
      "text/plain": [
       "sepal_length    1.0\n",
       "sepal_width     1.0\n",
       "petal_length    1.0\n",
       "petal_width     1.0\n",
       "dtype: float64"
      ]
     },
     "execution_count": 24,
     "metadata": {},
     "output_type": "execute_result"
    }
   ],
   "source": [
    "iris.std(axis=0)"
   ]
  },
  {
   "cell_type": "code",
   "execution_count": null,
   "metadata": {},
   "outputs": [],
   "source": []
  }
 ],
 "metadata": {
  "kernelspec": {
   "display_name": "Python 3",
   "language": "python",
   "name": "python3"
  },
  "language_info": {
   "codemirror_mode": {
    "name": "ipython",
    "version": 3
   },
   "file_extension": ".py",
   "mimetype": "text/x-python",
   "name": "python",
   "nbconvert_exporter": "python",
   "pygments_lexer": "ipython3",
   "version": "3.6.5"
  }
 },
 "nbformat": 4,
 "nbformat_minor": 2
}
