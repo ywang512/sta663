{
 "cells": [
  {
   "cell_type": "markdown",
   "metadata": {},
   "source": [
    "**1**. \n",
    "\n",
    "Convert this string\n",
    "\n",
    "`123-456-789`\n",
    "\n",
    "into this string\n",
    "\n",
    "`321:654:987`"
   ]
  },
  {
   "cell_type": "code",
   "execution_count": 1,
   "metadata": {},
   "outputs": [
    {
     "data": {
      "text/plain": [
       "'321:654:987'"
      ]
     },
     "execution_count": 1,
     "metadata": {},
     "output_type": "execute_result"
    }
   ],
   "source": [
    "temp = '123-456-789'.split('-')\n",
    "\":\".join(i[::-1] for i in temp)"
   ]
  },
  {
   "cell_type": "markdown",
   "metadata": {},
   "source": [
    "**2**.\n",
    "\n",
    "Read the DNA sequence in the file `dan.fasta` and find the longest run of a single nucleotide. For example, the longest run in `GATTACA` is T with a length of 2. Ignore lines beginning with `>`."
   ]
  },
  {
   "cell_type": "code",
   "execution_count": 8,
   "metadata": {},
   "outputs": [
    {
     "data": {
      "text/plain": [
       "'ATGAATAAAATATACTACATAATCTTTTTAAGCGCCCAGTGCCTTGTGCACATTGGGAAGTGCGGGCGAAACCATAAGCCGAGCAGGCTGACCCGTAGCGCCAACAACGTTCTACTGGAAAAGGGGCCTACCGTTGAGAGAAGCACACGAATGAGTAACCCCTGGAAAGCGTTCATGGAAAAATACGACATCGAAAGAACACACAGTTCTGGGGTTCGAGTGGATTTAGGGGAAGATGCAGAAGTGGAAAATGCAAAGTACAGAATTCCAGCTGGAAGATGTCCTGTTTTTGGAAAGGGTATCGTCATAGAGAATTCCGCTGTTAGCTTCTTAACCCCTGTGGCTACAGGAGATCAGAGGCTGAAGGATGGAGGTTTCGCCTTCCCCAAAGCGGATGACCATATCTCCCCCATGACATTAGCGAACCTTAAGGAAAGGTATAAAGACAATGTAGAGATGATGAAGTTAAACGATATAGCTTTGTGCAGAACCCACGCAGCTAGCTTTGTCATGGCAGGGGATCAAAATTCGTCCTACAGACACCCAGCTGTATACGACGAAAAGGAAAAAACATGCCACATGTTGTATTTATCAGCGCAGGAAAATATGGGTCCGAGGTACTGCAGCTCAGATGCACAAAATAGAGATGCCGTGTTCTGCTTCAAGCCAGATAAAAATGTAGATTTTGAAAACCTGGTGTATTTGAGCAAAAATGTGCGTAATGATTGGGATAAAAAATGTCCCCGTAAAAATTTAGGAAACGCCAAGTTCGGATTATGGGTGGATGGGAACTGCGAAGAAATTCCATACGTTAAAGAAGTGGAGGCAAAGGATCTGCGCGAATGCAACCGAATCGTTTTCGAAGCGAGTGCCTCAGATCAACCAACTCAGTATGAAGAAGAAATGACGGATTATCAAAAAATACAACAAGGGTTTAGACAAAACAACCGAGAGATGATTAAAAGTGCCTTTCTTCCAGTGGGTGCATTCAACTCGGATAATTTCAAAAGTAAAGGAAGAGGATTTAACTGGGCAAATTTCGATTCTGTAAAAAAGAAGTGTTACATTTTTAATACCAAACCGACTTGCCTCATTAATGACAAAAATTTTATTGCAACAACGGCGTTATCTCACCCACAAGAAGTAGACCGGGATTTCCCCTGCAGCATATATAAAGACGAAATTGAAAGAGAAATTAGGAAACAATCGAGGAACATGAATCTGTACAGTGTTGATGGGGAACGCATTGTCCTGCCGAGGATATTTATCTCCAACGATAAGGAGAGTATCAAATGTCCCTGCGAACCTGAGCACATTTCCAACAGTACCTGCAACTTTTACGTTTGTAACTGTGTAGAGAAAAGGGCGGAAATTAAGGAAAATAACCAAGTTGTTATAAAGGAAGAATTTAGGGATTATTACGAAAATGGGGAGGAAAAATCGAACAAGCAGATGCTACTAATCATTATCGGAATAACTGGTGGCGTGTGCGTCGTCGCGCTGGCCTCTATGGCCTACTTCAAGAAGAAGGCTAACAATGATAAGTATGACAAGATGGACCAGGCAGAGGGGTACGGGAAGCCCACCACCAGGAAGGACGAGATGCTCGACCCCGAGGCCTCCTTCTGGGGCGAGGACAAGCGGGCCTCCCACACCACGCCCGTGCTGATGGAGAAGCCGTACTACTGA'"
      ]
     },
     "execution_count": 8,
     "metadata": {},
     "output_type": "execute_result"
    }
   ],
   "source": [
    "lines = list()\n",
    "with open(\"dna.fasta\", 'r') as f:\n",
    "    for line in f:\n",
    "        if not line.startswith('>'):\n",
    "            lines.append(line.strip())\n",
    "dna = ''.join(lines)\n",
    "dna"
   ]
  },
  {
   "cell_type": "code",
   "execution_count": 42,
   "metadata": {},
   "outputs": [],
   "source": [
    "def longest_run(s, char):\n",
    "    import re\n",
    "    full = ['A', 'T', 'G', 'C']\n",
    "    par = [x for x in full if x != char]\n",
    "    pat = '|'.join(par)\n",
    "    return max(re.split(pat, s), key = len)"
   ]
  },
  {
   "cell_type": "code",
   "execution_count": 48,
   "metadata": {},
   "outputs": [
    {
     "name": "stdout",
     "output_type": "stream",
     "text": [
      "AAAAAA\n",
      "TTTTT\n",
      "GGGG\n",
      "CCCCC\n"
     ]
    }
   ],
   "source": [
    "print(longest_run(dna, 'A'))\n",
    "print(longest_run(dna, 'T'))\n",
    "print(longest_run(dna, 'G'))\n",
    "print(longest_run(dna, 'C'))"
   ]
  }
 ],
 "metadata": {
  "kernelspec": {
   "display_name": "Python 3",
   "language": "python",
   "name": "python3"
  },
  "language_info": {
   "codemirror_mode": {
    "name": "ipython",
    "version": 3
   },
   "file_extension": ".py",
   "mimetype": "text/x-python",
   "name": "python",
   "nbconvert_exporter": "python",
   "pygments_lexer": "ipython3",
   "version": "3.7.2"
  }
 },
 "nbformat": 4,
 "nbformat_minor": 2
}
