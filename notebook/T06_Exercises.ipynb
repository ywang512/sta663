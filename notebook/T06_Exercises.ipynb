{
 "cells": [
  {
   "cell_type": "markdown",
   "metadata": {},
   "source": [
    "**1**. Determine whether the following system of equations has no solution, infinite solutions or a unique solution *without solving the system*\n",
    "\n",
    "$$\\begin{eqnarray*}\n",
    "x+2y-z+w &=& 2\\\\\n",
    "3x-4y+2 w &=& 3\\\\\n",
    "2y+z &=& 4\\\\\n",
    "2x+2y-3z+2w&=&0\\\\\n",
    "-2x+6y-z-w&=&-1\n",
    "\\end{eqnarray*}$$"
   ]
  },
  {
   "cell_type": "code",
   "execution_count": null,
   "metadata": {},
   "outputs": [],
   "source": []
  },
  {
   "cell_type": "markdown",
   "metadata": {},
   "source": [
    "**2**. Let $f(x)$ be a linear transformation of $\\mathbb{R}^3$ such that\n",
    "$$\\begin{eqnarray*}\n",
    "f(e_1) &=& (1,1,3)\\\\\n",
    "f(e_2) &=& (1,0,4)\\\\\n",
    "f(e_3) &=& (0,2,1)\n",
    "\\end{eqnarray*}$$\n",
    "\n",
    "* Find a matrix representation for $f$. \n",
    "* Compute the matrix representation for $f$ in the basis$$\\begin{eqnarray*}\n",
    "v_1 &=& (2,3,3)\\\\\n",
    "v_2 &=& (8,5,2)\\\\\n",
    "v_3 &=& (1,0,5)\n",
    "\\end{eqnarray*}$$"
   ]
  },
  {
   "cell_type": "code",
   "execution_count": null,
   "metadata": {},
   "outputs": [],
   "source": []
  },
  {
   "cell_type": "markdown",
   "metadata": {},
   "source": [
    "**3**. Find the four fundamental subspaces of the matrix\n",
    "\n",
    "$$\n",
    "A = \\pmatrix{\n",
    "1 & 3 & 3 & 2 \\\\\n",
    "2 & 6 & 9 & 7 \\\\\n",
    "-1 & -3 & 3 & 4\n",
    "}\n",
    "$$"
   ]
  },
  {
   "cell_type": "code",
   "execution_count": null,
   "metadata": {},
   "outputs": [],
   "source": []
  },
  {
   "cell_type": "markdown",
   "metadata": {},
   "source": [
    "**4**. Find the least squares linear solution to the following data\n",
    "\n",
    "```\n",
    "y = [1,2,3,4]\n",
    "x1 = [1,2,3,4]\n",
    "x2 = [2,3,4,5]\n",
    "```\n",
    "\n",
    "That is, find the \"best\" intercept and slope for the variables `x1` and `x2`."
   ]
  },
  {
   "cell_type": "code",
   "execution_count": null,
   "metadata": {},
   "outputs": [],
   "source": []
  },
  {
   "cell_type": "markdown",
   "metadata": {},
   "source": [
    "**5**. Find the coordinates of the vector $\\pmatrix{1\\\\ 2 \\\\3}$ with respect to the eigenvectors of the following matrix.\n",
    "```\n",
    "array([[ 0.18673654,  0.20037016,  0.47406091],\n",
    "       [ 0.21715108,  0.44708353,  0.79204575],\n",
    "       [ 0.24299882,  0.51936745,  0.3061621 ]])\n",
    "```"
   ]
  },
  {
   "cell_type": "code",
   "execution_count": null,
   "metadata": {},
   "outputs": [],
   "source": []
  },
  {
   "cell_type": "markdown",
   "metadata": {},
   "source": [
    "**6**. Consider the following system of equations:\n",
    "\n",
    "$$\\begin{align*}\n",
    "2x_1& - x_2&    +x_x    &=& 6\\\\\n",
    "-x_1& +2x_2& -  x_3 &=& 2\\\\\n",
    " x_1   &  -x_2& + x_3 &=& 1\n",
    "\\end{align*}$$\n",
    "\n",
    "1. Consider the system in matrix form $Ax=b$ and define $A$, $b$ in numpy.\n",
    "2. Show that $A$ is positive-definite\n",
    "3. Use the appropriate matrix decomposition function in numpy and back-substitution to solve the system. Remember to use the structure of the problem to determine the appropriate decomposition."
   ]
  },
  {
   "cell_type": "code",
   "execution_count": null,
   "metadata": {},
   "outputs": [],
   "source": []
  },
  {
   "cell_type": "markdown",
   "metadata": {},
   "source": [
    "**7**. You are given the following set of data to fit a quadratic polynomial to\n",
    "\n",
    "```python\n",
    "x = np.arange(10)\n",
    "y = np.array([  1.58873597,   7.55101533,  10.71372171,   7.90123225,\n",
    "                -2.05877605, -12.40257359, -28.64568712, -46.39822281,\n",
    "                -68.15488905, -97.16032044])\n",
    "```\n",
    "\n",
    "- Find the least squares solution by using the normal equations $A^T A \\hat{x} = A^T y$. \n",
    "- Plot the data together with the fitted polynomial. \n",
    "\n",
    "\n"
   ]
  },
  {
   "cell_type": "code",
   "execution_count": null,
   "metadata": {},
   "outputs": [],
   "source": []
  },
  {
   "cell_type": "markdown",
   "metadata": {},
   "source": [
    "**8**. Find the minimum of the following quadratic function on $\\mathbb{R}^4$ \n",
    "\n",
    "$$f(x) = x^TAx +b^Tx +c$$\n",
    "where\n",
    "$$A = \\left(\\begin{matrix}13&5&0&0\\\\5&7&0&0\\\\0&0&20&-7\\\\0&0&-7&12\\end{matrix}\\right), b = \\left(\\begin{matrix}1\\\\1\\\\1\\\\1\\end{matrix}\\right) \\textrm {and } c = 2$$\n",
    "\n",
    "and $x$ is a column vector, using a matrix decomposition method (library functions - no need to code your own).  Note: for full credit you should exploit matrix structure."
   ]
  },
  {
   "cell_type": "code",
   "execution_count": null,
   "metadata": {},
   "outputs": [],
   "source": []
  }
 ],
 "metadata": {
  "kernelspec": {
   "display_name": "Python 3",
   "language": "python",
   "name": "python3"
  },
  "language_info": {
   "codemirror_mode": {
    "name": "ipython",
    "version": 3
   },
   "file_extension": ".py",
   "mimetype": "text/x-python",
   "name": "python",
   "nbconvert_exporter": "python",
   "pygments_lexer": "ipython3",
   "version": "3.7.0"
  }
 },
 "nbformat": 4,
 "nbformat_minor": 2
}
