{
 "cells": [
  {
   "cell_type": "code",
   "execution_count": 1,
   "metadata": {},
   "outputs": [],
   "source": [
    "%matplotlib inline\n",
    "\n",
    "import os\n",
    "import glob\n",
    "from pathlib import Path\n",
    "import numpy as np\n",
    "import pandas as pd\n",
    "import matplotlib as mpl\n",
    "import matplotlib.pyplot as plt\n",
    "import seaborn as sns\n",
    "import numpy.linalg as la\n",
    "\n",
    "sns.set_context('notebook', font_scale=1.5)"
   ]
  },
  {
   "cell_type": "markdown",
   "metadata": {},
   "source": [
    "**1**. Determine whether the following system of equations has no solution, infinite solutions or a unique solution *without solving the system*\n",
    "\n",
    "$$\\begin{eqnarray*}\n",
    "x+2y-z+w &=& 2\\\\\n",
    "3x-4y+2 w &=& 3\\\\\n",
    "2y+z &=& 4\\\\\n",
    "2x+2y-3z+2w&=&0\\\\\n",
    "-2x+6y-z-w&=&-1\n",
    "\\end{eqnarray*}$$"
   ]
  },
  {
   "cell_type": "code",
   "execution_count": 2,
   "metadata": {},
   "outputs": [],
   "source": [
    "A = np.array([[1,2,-1,1,2],[3,-4,0,2,3],[0,2,1,0,4],[2,2,-3,2,0],[-2,6,-1,-1,-1]])"
   ]
  },
  {
   "cell_type": "code",
   "execution_count": 3,
   "metadata": {},
   "outputs": [
    {
     "data": {
      "text/plain": [
       "3"
      ]
     },
     "execution_count": 3,
     "metadata": {},
     "output_type": "execute_result"
    }
   ],
   "source": [
    "np.linalg.matrix_rank(A)"
   ]
  },
  {
   "cell_type": "code",
   "execution_count": 4,
   "metadata": {},
   "outputs": [
    {
     "data": {
      "text/plain": [
       "-3.1554436208840535e-30"
      ]
     },
     "execution_count": 4,
     "metadata": {},
     "output_type": "execute_result"
    }
   ],
   "source": [
    "np.linalg.det(A)"
   ]
  },
  {
   "cell_type": "code",
   "execution_count": 5,
   "metadata": {},
   "outputs": [
    {
     "data": {
      "text/plain": [
       "(array([[ 0.09110569,  0.5266526 ,  0.00714716,  0.55214288, -0.63986245],\n",
       "        [-0.65077439,  0.38342368,  0.0301255 ,  0.36840064,  0.54115839],\n",
       "        [ 0.06655053,  0.54048886, -0.69939768, -0.46027176,  0.04935203],\n",
       "        [ 0.11566084,  0.51281634,  0.71369199, -0.46027176,  0.04935203],\n",
       "        [ 0.74188007,  0.14322891, -0.02297834,  0.36840064,  0.54115839]]),\n",
       " array([8.75873024e+00, 6.11226672e+00, 4.46372491e+00, 9.75624284e-16,\n",
       "        1.86751596e-16]),\n",
       " array([[-0.3554917 ,  0.86782124, -0.12712091, -0.19648984, -0.25640586],\n",
       "        [ 0.39528682,  0.40665672, -0.27286795,  0.35598965,  0.69079164],\n",
       "        [ 0.35191782, -0.04827563, -0.6327994 ,  0.34002106, -0.59814204],\n",
       "        [ 0.7397376 ,  0.25642633,  0.52598217, -0.20719068, -0.25970871],\n",
       "        [-0.21521179,  0.11589483,  0.4819658 ,  0.82226566, -0.17843887]]))"
      ]
     },
     "execution_count": 5,
     "metadata": {},
     "output_type": "execute_result"
    }
   ],
   "source": [
    "np.linalg.svd(A)"
   ]
  },
  {
   "cell_type": "markdown",
   "metadata": {},
   "source": [
    "**2**. Let $f(x)$ be a linear transformation of $\\mathbb{R}^3$ such that\n",
    "$$\\begin{eqnarray*}\n",
    "f(e_1) &=& (1,1,3)\\\\\n",
    "f(e_2) &=& (1,0,4)\\\\\n",
    "f(e_3) &=& (0,2,1)\n",
    "\\end{eqnarray*}$$\n",
    "\n",
    "* Find a matrix representation for $f$. \n",
    "* Compute the matrix representation for $f$ in the basis$$\\begin{eqnarray*}\n",
    "v_1 &=& (2,3,3)\\\\\n",
    "v_2 &=& (8,5,2)\\\\\n",
    "v_3 &=& (1,0,5)\n",
    "\\end{eqnarray*}$$"
   ]
  },
  {
   "cell_type": "code",
   "execution_count": 6,
   "metadata": {},
   "outputs": [
    {
     "data": {
      "text/plain": [
       "array([[1, 1, 0],\n",
       "       [1, 0, 2],\n",
       "       [3, 4, 1]])"
      ]
     },
     "execution_count": 6,
     "metadata": {},
     "output_type": "execute_result"
    }
   ],
   "source": [
    "A = np.array([[1,1,3],[1,0,4],[0,2,1]]).T\n",
    "A"
   ]
  },
  {
   "cell_type": "code",
   "execution_count": 7,
   "metadata": {},
   "outputs": [
    {
     "data": {
      "text/plain": [
       "array([[2, 8, 1],\n",
       "       [3, 5, 0],\n",
       "       [3, 2, 5]])"
      ]
     },
     "execution_count": 7,
     "metadata": {},
     "output_type": "execute_result"
    }
   ],
   "source": [
    "C = np.array([[2,3,3],[8,5,2],[1,0,5]]).T\n",
    "C"
   ]
  },
  {
   "cell_type": "code",
   "execution_count": 8,
   "metadata": {},
   "outputs": [
    {
     "data": {
      "text/plain": [
       "array([[ 3.59493671,  4.56962025,  5.48101266],\n",
       "       [-0.55696203, -0.34177215, -1.08860759],\n",
       "       [ 2.26582278,  6.59493671, -1.25316456]])"
      ]
     },
     "execution_count": 8,
     "metadata": {},
     "output_type": "execute_result"
    }
   ],
   "source": [
    "la.solve(C, A @ C)"
   ]
  },
  {
   "cell_type": "markdown",
   "metadata": {},
   "source": [
    "**3**. Find the four fundamental subspaces of the matrix\n",
    "\n",
    "$$\n",
    "A = \\pmatrix{\n",
    "1 & 3 & 3 & 2 \\\\\n",
    "2 & 6 & 9 & 7 \\\\\n",
    "-1 & -3 & 3 & 4\n",
    "}\n",
    "$$"
   ]
  },
  {
   "cell_type": "markdown",
   "metadata": {},
   "source": [
    "Check lecture notes"
   ]
  },
  {
   "cell_type": "markdown",
   "metadata": {},
   "source": [
    "**4**. Find the least squares linear solution to the following data\n",
    "\n",
    "```\n",
    "y = [1,2,3,4]\n",
    "x1 = [1,2,3,4]\n",
    "x2 = [2,3,4,5]\n",
    "```\n",
    "\n",
    "That is, find the \"best\" intercept and slope for the variables `x1` and `x2`."
   ]
  },
  {
   "cell_type": "code",
   "execution_count": null,
   "metadata": {},
   "outputs": [],
   "source": []
  },
  {
   "cell_type": "markdown",
   "metadata": {},
   "source": [
    "**5**. Find the coordinates of the vector $\\pmatrix{1\\\\ 2 \\\\3}$ with respect to the eigenvectors of the following matrix.\n",
    "```\n",
    "array([[ 0.18673654,  0.20037016,  0.47406091],\n",
    "       [ 0.21715108,  0.44708353,  0.79204575],\n",
    "       [ 0.24299882,  0.51936745,  0.3061621 ]])\n",
    "```"
   ]
  },
  {
   "cell_type": "code",
   "execution_count": null,
   "metadata": {},
   "outputs": [],
   "source": []
  },
  {
   "cell_type": "markdown",
   "metadata": {},
   "source": [
    "**6**. Consider the following system of equations:\n",
    "\n",
    "$$\\begin{align*}\n",
    "2x_1& - x_2&    +x_x    &=& 6\\\\\n",
    "-x_1& +2x_2& -  x_3 &=& 2\\\\\n",
    " x_1   &  -x_2& + x_3 &=& 1\n",
    "\\end{align*}$$\n",
    "\n",
    "1. Consider the system in matrix form $Ax=b$ and define $A$, $b$ in numpy.\n",
    "2. Show that $A$ is positive-definite\n",
    "3. Use the appropriate matrix decomposition function in numpy and back-substitution to solve the system. Remember to use the structure of the problem to determine the appropriate decomposition."
   ]
  },
  {
   "cell_type": "code",
   "execution_count": null,
   "metadata": {},
   "outputs": [],
   "source": []
  },
  {
   "cell_type": "markdown",
   "metadata": {},
   "source": [
    "**7**. You are given the following set of data to fit a quadratic polynomial to\n",
    "\n",
    "```python\n",
    "x = np.arange(10)\n",
    "y = np.array([  1.58873597,   7.55101533,  10.71372171,   7.90123225,\n",
    "                -2.05877605, -12.40257359, -28.64568712, -46.39822281,\n",
    "                -68.15488905, -97.16032044])\n",
    "```\n",
    "\n",
    "- Find the least squares solution by using the normal equations $A^T A \\hat{x} = A^T y$. \n",
    "- Plot the data together with the fitted polynomial. \n",
    "\n",
    "\n"
   ]
  },
  {
   "cell_type": "code",
   "execution_count": 10,
   "metadata": {},
   "outputs": [],
   "source": [
    "x = np.arange(10)\n",
    "y = np.array([  1.58873597,   7.55101533,  10.71372171,   7.90123225,\n",
    "                -2.05877605, -12.40257359, -28.64568712, -46.39822281,\n",
    "                -68.15488905, -97.16032044])"
   ]
  },
  {
   "cell_type": "code",
   "execution_count": 11,
   "metadata": {},
   "outputs": [
    {
     "data": {
      "text/plain": [
       "array([ 0.96206401,  0.27337758, -1.69811458, -1.77678962,  1.20967548,\n",
       "        0.4975511 ,  1.602364  ,  0.13422035, -1.41217147,  0.20782315])"
      ]
     },
     "execution_count": 11,
     "metadata": {},
     "output_type": "execute_result"
    }
   ],
   "source": [
    "A = np.c_[np.ones(10), x, x**2]\n",
    "I = np.eye(10)\n",
    "xhat = la.solve(A.T@A, A.T@y)\n",
    "A@xhat - y"
   ]
  },
  {
   "cell_type": "code",
   "execution_count": null,
   "metadata": {},
   "outputs": [],
   "source": [
    "M = np.array([[ 0.18673654,  0.20037016,  0.47406091],\n",
    "       [ 0.21715108,  0.44708353,  0.79204575],\n",
    "       [ 0.24299882,  0.51936745,  0.3061621 ]])"
   ]
  },
  {
   "cell_type": "code",
   "execution_count": null,
   "metadata": {},
   "outputs": [],
   "source": [
    "v = np.array([1,2,3])\n",
    "w = la.solve(M, v)\n",
    "w"
   ]
  },
  {
   "cell_type": "markdown",
   "metadata": {},
   "source": [
    "**8**. Find the minimum of the following quadratic function on $\\mathbb{R}^4$ \n",
    "\n",
    "$$f(x) = x^TAx +b^Tx +c$$\n",
    "where\n",
    "$$A = \\left(\\begin{matrix}13&5&0&0\\\\5&7&0&0\\\\0&0&20&-7\\\\0&0&-7&12\\end{matrix}\\right), b = \\left(\\begin{matrix}1\\\\1\\\\1\\\\1\\end{matrix}\\right) \\textrm {and } c = 2$$\n",
    "\n",
    "and $x$ is a column vector, using a matrix decomposition method (library functions - no need to code your own).  Note: for full credit you should exploit matrix structure."
   ]
  },
  {
   "cell_type": "code",
   "execution_count": null,
   "metadata": {},
   "outputs": [],
   "source": []
  }
 ],
 "metadata": {
  "kernelspec": {
   "display_name": "Python 3",
   "language": "python",
   "name": "python3"
  },
  "language_info": {
   "codemirror_mode": {
    "name": "ipython",
    "version": 3
   },
   "file_extension": ".py",
   "mimetype": "text/x-python",
   "name": "python",
   "nbconvert_exporter": "python",
   "pygments_lexer": "ipython3",
   "version": "3.7.0"
  }
 },
 "nbformat": 4,
 "nbformat_minor": 2
}
