{
 "cells": [
  {
   "cell_type": "markdown",
   "metadata": {},
   "source": [
    "# Algorithms and Data Structures\n",
    "\n",
    "If you will be coding a lot, take an Algorithms and Data Structures course from CS or a MOOC. It will help you become a better programmer. Here we just go over very basic concepts needed to write efficient Python code."
   ]
  },
  {
   "cell_type": "markdown",
   "metadata": {},
   "source": [
    "## Data structures"
   ]
  },
  {
   "cell_type": "markdown",
   "metadata": {},
   "source": [
    "### Sequence containers\n",
    "\n",
    "Searching takes linear time since a full scan is required."
   ]
  },
  {
   "cell_type": "code",
   "execution_count": 1,
   "metadata": {},
   "outputs": [
    {
     "name": "stdout",
     "output_type": "stream",
     "text": [
      "1.77 µs ± 32 ns per loop (mean ± std. dev. of 3 runs, 10 loops each)\n"
     ]
    }
   ],
   "source": [
    "n = 100\n",
    "xs  = list(range(n))\n",
    "%timeit -r3 -n10 n in xs"
   ]
  },
  {
   "cell_type": "code",
   "execution_count": 2,
   "metadata": {},
   "outputs": [
    {
     "name": "stdout",
     "output_type": "stream",
     "text": [
      "176 µs ± 7.8 µs per loop (mean ± std. dev. of 3 runs, 10 loops each)\n"
     ]
    }
   ],
   "source": [
    "n = 10000\n",
    "xs  = list(range(n))\n",
    "%timeit -r3 -n10 n in xs"
   ]
  },
  {
   "cell_type": "markdown",
   "metadata": {},
   "source": [
    "### Mapping containers\n",
    "\n",
    "Search takes constant time since mapping containers in Python are based on hash tables."
   ]
  },
  {
   "cell_type": "code",
   "execution_count": 3,
   "metadata": {},
   "outputs": [
    {
     "name": "stdout",
     "output_type": "stream",
     "text": [
      "114 ns ± 20.3 ns per loop (mean ± std. dev. of 3 runs, 10 loops each)\n"
     ]
    }
   ],
   "source": [
    "n = 100\n",
    "xs  = set(range(n))\n",
    "%timeit -r3 -n10 n in xs"
   ]
  },
  {
   "cell_type": "code",
   "execution_count": 4,
   "metadata": {},
   "outputs": [
    {
     "name": "stdout",
     "output_type": "stream",
     "text": [
      "111 ns ± 16.4 ns per loop (mean ± std. dev. of 3 runs, 10 loops each)\n"
     ]
    }
   ],
   "source": [
    "n = 10000\n",
    "xs  = set(range(n))\n",
    "%timeit -r3 -n10 n in xs"
   ]
  },
  {
   "cell_type": "markdown",
   "metadata": {},
   "source": [
    "### Heap\n",
    "\n",
    "The heap is an interesting data structure often used to build efficient priority queues."
   ]
  },
  {
   "cell_type": "code",
   "execution_count": 5,
   "metadata": {},
   "outputs": [],
   "source": [
    "import heapq"
   ]
  },
  {
   "cell_type": "code",
   "execution_count": 6,
   "metadata": {},
   "outputs": [
    {
     "name": "stdout",
     "output_type": "stream",
     "text": [
      "[5]\n",
      "[1, 5]\n",
      "[1, 5, 3]\n",
      "[1, 2, 3, 5]\n",
      "[1, 2, 3, 5, 4]\n"
     ]
    }
   ],
   "source": [
    "h = []\n",
    "xs = [5,1,3,2,4]\n",
    "for x in xs:\n",
    "    heapq.heappush(h, x)\n",
    "    print(h)"
   ]
  },
  {
   "cell_type": "code",
   "execution_count": 7,
   "metadata": {},
   "outputs": [
    {
     "data": {
      "text/plain": [
       "[5, 4, 3]"
      ]
     },
     "execution_count": 7,
     "metadata": {},
     "output_type": "execute_result"
    }
   ],
   "source": [
    "heapq.nlargest(3, h)"
   ]
  },
  {
   "cell_type": "code",
   "execution_count": 8,
   "metadata": {},
   "outputs": [
    {
     "data": {
      "text/plain": [
       "[1, 2, 3]"
      ]
     },
     "execution_count": 8,
     "metadata": {},
     "output_type": "execute_result"
    }
   ],
   "source": [
    "heapq.nsmallest(3, h)"
   ]
  },
  {
   "cell_type": "code",
   "execution_count": 9,
   "metadata": {},
   "outputs": [
    {
     "name": "stdout",
     "output_type": "stream",
     "text": [
      "1\n",
      "2\n",
      "3\n",
      "4\n",
      "5\n"
     ]
    }
   ],
   "source": [
    "while h:\n",
    "    x = heapq.heappop(h)\n",
    "    print(x)"
   ]
  },
  {
   "cell_type": "markdown",
   "metadata": {},
   "source": [
    "### Collections\n",
    "\n",
    "The `collections` module includes a few useful data structures."
   ]
  },
  {
   "cell_type": "markdown",
   "metadata": {},
   "source": [
    "#### `named tuple`\n",
    "\n",
    "A named tuple is exactly as efficient as a tuple, just more convenient for named access."
   ]
  },
  {
   "cell_type": "code",
   "execution_count": 10,
   "metadata": {},
   "outputs": [],
   "source": [
    "import collections as c"
   ]
  },
  {
   "cell_type": "code",
   "execution_count": 11,
   "metadata": {},
   "outputs": [],
   "source": [
    "Point = c.namedtuple('Point', ['x', 'y', 'z'])"
   ]
  },
  {
   "cell_type": "code",
   "execution_count": 12,
   "metadata": {},
   "outputs": [],
   "source": [
    "p = Point(1,2,3)"
   ]
  },
  {
   "cell_type": "code",
   "execution_count": 13,
   "metadata": {},
   "outputs": [
    {
     "data": {
      "text/plain": [
       "Point(x=1, y=2, z=3)"
      ]
     },
     "execution_count": 13,
     "metadata": {},
     "output_type": "execute_result"
    }
   ],
   "source": [
    "p"
   ]
  },
  {
   "cell_type": "code",
   "execution_count": 14,
   "metadata": {},
   "outputs": [
    {
     "data": {
      "text/plain": [
       "(1, 2, 3)"
      ]
     },
     "execution_count": 14,
     "metadata": {},
     "output_type": "execute_result"
    }
   ],
   "source": [
    "p.x, p.y, p.z"
   ]
  },
  {
   "cell_type": "code",
   "execution_count": 15,
   "metadata": {},
   "outputs": [],
   "source": [
    "Rec = c.namedtuple('Record', ['first', 'last', 'email'])"
   ]
  },
  {
   "cell_type": "code",
   "execution_count": 16,
   "metadata": {},
   "outputs": [],
   "source": [
    "tom = Rec(email='john.doe@example.com', first='John', last='Doe')"
   ]
  },
  {
   "cell_type": "code",
   "execution_count": 17,
   "metadata": {},
   "outputs": [
    {
     "data": {
      "text/plain": [
       "'john.doe@example.com'"
      ]
     },
     "execution_count": 17,
     "metadata": {},
     "output_type": "execute_result"
    }
   ],
   "source": [
    "tom[-1]"
   ]
  },
  {
   "cell_type": "code",
   "execution_count": 18,
   "metadata": {},
   "outputs": [
    {
     "data": {
      "text/plain": [
       "'john.doe@example.com'"
      ]
     },
     "execution_count": 18,
     "metadata": {},
     "output_type": "execute_result"
    }
   ],
   "source": [
    "tom.email"
   ]
  },
  {
   "cell_type": "markdown",
   "metadata": {},
   "source": [
    "#### `counter`\n",
    "\n",
    "Convenience class for counting."
   ]
  },
  {
   "cell_type": "code",
   "execution_count": 19,
   "metadata": {},
   "outputs": [
    {
     "data": {
      "text/plain": [
       "Counter({'A': 7, 'T': 5, 'C': 2, 'G': 3})"
      ]
     },
     "execution_count": 19,
     "metadata": {},
     "output_type": "execute_result"
    }
   ],
   "source": [
    "dna = 'AATTTAACCAAGGGATT'\n",
    "dna_counter = c.Counter(dna)\n",
    "dna_counter"
   ]
  },
  {
   "cell_type": "code",
   "execution_count": 20,
   "metadata": {},
   "outputs": [],
   "source": [
    "words = 'this old man he played one he played knick knack on my thumb'.split()\n",
    "word_counter = c.Counter(words)"
   ]
  },
  {
   "cell_type": "code",
   "execution_count": 21,
   "metadata": {},
   "outputs": [
    {
     "data": {
      "text/plain": [
       "[('he', 2), ('played', 2)]"
      ]
     },
     "execution_count": 21,
     "metadata": {},
     "output_type": "execute_result"
    }
   ],
   "source": [
    "word_counter.most_common(2)"
   ]
  },
  {
   "cell_type": "markdown",
   "metadata": {},
   "source": [
    "#### `deque`\n",
    "\n",
    "Double-ended queue."
   ]
  },
  {
   "cell_type": "code",
   "execution_count": 22,
   "metadata": {},
   "outputs": [],
   "source": [
    "deq = c.deque([5,1,3,2,4])"
   ]
  },
  {
   "cell_type": "code",
   "execution_count": 23,
   "metadata": {},
   "outputs": [
    {
     "data": {
      "text/plain": [
       "deque([5, 1, 3, 2, 4])"
      ]
     },
     "execution_count": 23,
     "metadata": {},
     "output_type": "execute_result"
    }
   ],
   "source": [
    "deq"
   ]
  },
  {
   "cell_type": "code",
   "execution_count": 24,
   "metadata": {},
   "outputs": [
    {
     "data": {
      "text/plain": [
       "deque([5, 1, 3, 2, 4, 99])"
      ]
     },
     "execution_count": 24,
     "metadata": {},
     "output_type": "execute_result"
    }
   ],
   "source": [
    "deq.append(99)\n",
    "deq"
   ]
  },
  {
   "cell_type": "code",
   "execution_count": 25,
   "metadata": {},
   "outputs": [
    {
     "data": {
      "text/plain": [
       "deque([99, 5, 1, 3, 2, 4, 99])"
      ]
     },
     "execution_count": 25,
     "metadata": {},
     "output_type": "execute_result"
    }
   ],
   "source": [
    "deq.appendleft(99)\n",
    "deq"
   ]
  },
  {
   "cell_type": "code",
   "execution_count": 26,
   "metadata": {},
   "outputs": [
    {
     "data": {
      "text/plain": [
       "(99, 4)"
      ]
     },
     "execution_count": 26,
     "metadata": {},
     "output_type": "execute_result"
    }
   ],
   "source": [
    "deq.pop(), deq.pop()"
   ]
  },
  {
   "cell_type": "code",
   "execution_count": 27,
   "metadata": {},
   "outputs": [
    {
     "data": {
      "text/plain": [
       "(99, 5)"
      ]
     },
     "execution_count": 27,
     "metadata": {},
     "output_type": "execute_result"
    }
   ],
   "source": [
    "deq.popleft(), deq.popleft()"
   ]
  },
  {
   "cell_type": "markdown",
   "metadata": {},
   "source": [
    "The `deque` is also useful as a `ring` data structure when the `maxlen` argument is given"
   ]
  },
  {
   "cell_type": "code",
   "execution_count": 28,
   "metadata": {},
   "outputs": [],
   "source": [
    "ring = c.deque(maxlen=4)"
   ]
  },
  {
   "cell_type": "code",
   "execution_count": 29,
   "metadata": {},
   "outputs": [
    {
     "name": "stdout",
     "output_type": "stream",
     "text": [
      "deque([0], maxlen=4)\n",
      "deque([1, 0], maxlen=4)\n",
      "deque([2, 1, 0], maxlen=4)\n",
      "deque([3, 2, 1, 0], maxlen=4)\n",
      "deque([4, 3, 2, 1], maxlen=4)\n",
      "deque([5, 4, 3, 2], maxlen=4)\n",
      "deque([6, 5, 4, 3], maxlen=4)\n",
      "deque([7, 6, 5, 4], maxlen=4)\n",
      "deque([8, 7, 6, 5], maxlen=4)\n",
      "deque([9, 8, 7, 6], maxlen=4)\n"
     ]
    }
   ],
   "source": [
    "for i in range(10):\n",
    "    ring.appendleft(i)\n",
    "    print(ring)"
   ]
  },
  {
   "cell_type": "markdown",
   "metadata": {},
   "source": [
    "#### `defaultdict`\n",
    "\n",
    "Provides a default given by a factory function when key is not found."
   ]
  },
  {
   "cell_type": "code",
   "execution_count": 30,
   "metadata": {},
   "outputs": [],
   "source": [
    "d = c.defaultdict(list)"
   ]
  },
  {
   "cell_type": "code",
   "execution_count": 31,
   "metadata": {},
   "outputs": [],
   "source": [
    "d['foo'].append(2)"
   ]
  },
  {
   "cell_type": "code",
   "execution_count": 32,
   "metadata": {},
   "outputs": [],
   "source": [
    "d['bar'].extend([1,2,3])"
   ]
  },
  {
   "cell_type": "code",
   "execution_count": 33,
   "metadata": {},
   "outputs": [
    {
     "data": {
      "text/plain": [
       "defaultdict(list, {'foo': [2], 'bar': [1, 2, 3]})"
      ]
     },
     "execution_count": 33,
     "metadata": {},
     "output_type": "execute_result"
    }
   ],
   "source": [
    "d"
   ]
  },
  {
   "cell_type": "markdown",
   "metadata": {},
   "source": [
    "#### ChainMap\n",
    "\n",
    "A `ChainMap` lets you combine multiple dictionaries and access keys as though it was a single dictionary. If there are duplicate keys, only the first one will be accessible."
   ]
  },
  {
   "cell_type": "code",
   "execution_count": 34,
   "metadata": {},
   "outputs": [],
   "source": [
    "d1 = dict(a=1, b=2, c=3)\n",
    "d2 = dict(d=1, e=2, f=3)\n",
    "d3 = dict(g=4, h=4, i=4)"
   ]
  },
  {
   "cell_type": "code",
   "execution_count": 35,
   "metadata": {},
   "outputs": [],
   "source": [
    "cm = c.ChainMap(d1, d2, d3)"
   ]
  },
  {
   "cell_type": "code",
   "execution_count": 36,
   "metadata": {},
   "outputs": [
    {
     "data": {
      "text/plain": [
       "ChainMap({'a': 1, 'b': 2, 'c': 3}, {'d': 1, 'e': 2, 'f': 3}, {'g': 4, 'h': 4, 'i': 4})"
      ]
     },
     "execution_count": 36,
     "metadata": {},
     "output_type": "execute_result"
    }
   ],
   "source": [
    "cm"
   ]
  },
  {
   "cell_type": "code",
   "execution_count": 37,
   "metadata": {},
   "outputs": [
    {
     "data": {
      "text/plain": [
       "(1, 2, 4)"
      ]
     },
     "execution_count": 37,
     "metadata": {},
     "output_type": "execute_result"
    }
   ],
   "source": [
    "cm['a'], cm['e'], cm['h']"
   ]
  },
  {
   "cell_type": "markdown",
   "metadata": {},
   "source": [
    "### Example\n",
    "\n",
    "What numbers are present in both `xs` and `ys`?"
   ]
  },
  {
   "cell_type": "code",
   "execution_count": 38,
   "metadata": {},
   "outputs": [],
   "source": [
    "import numpy as np"
   ]
  },
  {
   "cell_type": "code",
   "execution_count": 39,
   "metadata": {},
   "outputs": [],
   "source": [
    "xs = np.random.randint(0, int(1e6), 10000)\n",
    "ys = np.random.randint(0, int(1e6), 10000)"
   ]
  },
  {
   "cell_type": "code",
   "execution_count": 40,
   "metadata": {},
   "outputs": [
    {
     "name": "stdout",
     "output_type": "stream",
     "text": [
      "{584714, 102410, 200726, 347162, 921120, 25637, 445477, 912432, 751154, 658485, 809027, 747592, 981072, 706129, 12888, 929378, 527460, 506983, 233580, 299632, 453744, 509045, 259703, 922744, 998011, 244861, 319103, 635520, 136839, 232073, 670864, 935057, 549520, 402582, 64663, 798361, 215195, 971419, 219811, 932523, 703153, 734386, 208564, 81589, 133307, 836284, 985290, 96975, 116950, 312540, 200926, 472289, 505571, 447204, 323310, 716545, 5898, 564495, 183065, 109850, 197406, 442655, 940837, 543526, 394536, 959274, 495403, 152364, 696111, 106803, 350517, 980800, 883523, 113988, 280396, 256338, 448346, 645978, 274781, 753504, 351074, 868724, 776577, 427908, 27013, 586119, 673682, 588179, 731542, 987032, 522138, 111518, 937888, 810407, 294828, 258992, 613818, 646081, 436164, 670667, 947665, 110037, 426473, 224747, 281580, 735225}\n",
      "CPU times: user 16.6 s, sys: 14.4 ms, total: 16.6 s\n",
      "Wall time: 16.6 s\n"
     ]
    }
   ],
   "source": [
    "%%time\n",
    "\n",
    "common = []\n",
    "for x in xs:\n",
    "    for y in ys:\n",
    "        if y == x:\n",
    "            common.append(y)\n",
    "print(set(common))"
   ]
  },
  {
   "cell_type": "code",
   "execution_count": 41,
   "metadata": {},
   "outputs": [
    {
     "name": "stdout",
     "output_type": "stream",
     "text": [
      "{102410, 584714, 200726, 347162, 921120, 25637, 445477, 912432, 751154, 658485, 809027, 747592, 981072, 706129, 12888, 929378, 527460, 506983, 233580, 299632, 453744, 509045, 259703, 922744, 998011, 244861, 319103, 635520, 136839, 232073, 549520, 670864, 935057, 402582, 64663, 798361, 971419, 215195, 219811, 932523, 703153, 734386, 208564, 81589, 133307, 836284, 985290, 96975, 116950, 312540, 200926, 472289, 505571, 447204, 323310, 716545, 5898, 564495, 183065, 109850, 197406, 442655, 940837, 543526, 394536, 959274, 495403, 152364, 696111, 106803, 350517, 980800, 883523, 113988, 280396, 256338, 448346, 645978, 274781, 753504, 351074, 868724, 776577, 427908, 27013, 586119, 673682, 588179, 731542, 987032, 522138, 111518, 937888, 810407, 294828, 258992, 613818, 646081, 436164, 670667, 947665, 110037, 426473, 224747, 281580, 735225}\n",
      "CPU times: user 186 ms, sys: 2.5 ms, total: 188 ms\n",
      "Wall time: 186 ms\n"
     ]
    }
   ],
   "source": [
    "%%time\n",
    "\n",
    "common = []\n",
    "for y in ys:\n",
    "    if y in xs:\n",
    "        common.append(y)\n",
    "print(set(common))"
   ]
  },
  {
   "cell_type": "code",
   "execution_count": 42,
   "metadata": {},
   "outputs": [
    {
     "name": "stdout",
     "output_type": "stream",
     "text": [
      "{102410, 584714, 200726, 347162, 921120, 25637, 445477, 912432, 751154, 658485, 809027, 747592, 981072, 706129, 12888, 929378, 527460, 506983, 233580, 299632, 453744, 509045, 259703, 922744, 998011, 244861, 319103, 635520, 136839, 232073, 549520, 670864, 935057, 402582, 64663, 798361, 971419, 215195, 219811, 932523, 703153, 734386, 208564, 81589, 133307, 836284, 985290, 96975, 116950, 312540, 200926, 472289, 505571, 447204, 323310, 716545, 5898, 564495, 183065, 109850, 197406, 442655, 940837, 543526, 394536, 959274, 495403, 152364, 696111, 106803, 350517, 980800, 883523, 113988, 280396, 256338, 448346, 645978, 274781, 753504, 351074, 868724, 776577, 427908, 27013, 586119, 673682, 588179, 731542, 987032, 522138, 111518, 937888, 810407, 294828, 258992, 613818, 646081, 436164, 670667, 947665, 110037, 426473, 224747, 281580, 735225}\n",
      "CPU times: user 2.73 ms, sys: 195 µs, total: 2.93 ms\n",
      "Wall time: 2.91 ms\n"
     ]
    }
   ],
   "source": [
    "%%time\n",
    "\n",
    "common = set(xs).intersection(ys)\n",
    "print(common)"
   ]
  },
  {
   "cell_type": "markdown",
   "metadata": {},
   "source": [
    "## Algorithms"
   ]
  },
  {
   "cell_type": "markdown",
   "metadata": {},
   "source": [
    "### Big O complexity\n",
    "\n",
    "A function $f(n)$ had Big O complexity $g(n)$ if $\\vert f(n) \\vert \\le M g(n)$ where $M$ is a constant. Common classes for $g(n)$ in increasing order of complexity are\n",
    "\n",
    "- $\\log n$\n",
    "- linear $n$\n",
    "- $n \\log n$\n",
    "- polynomial $n^k$\n",
    "- exponential $e^n$\n",
    "- factorial n!\n",
    "\n",
    "Notes\n",
    "\n",
    "- Note 1: parallel processing in most cases gives at best a linear speedup.\n",
    "- Note 2: The constant factor can be important, especially for small to moderate values of $n$"
   ]
  },
  {
   "cell_type": "code",
   "execution_count": 43,
   "metadata": {},
   "outputs": [],
   "source": [
    "from functools import reduce"
   ]
  },
  {
   "cell_type": "code",
   "execution_count": 44,
   "metadata": {},
   "outputs": [],
   "source": [
    "def factorial(n):\n",
    "    return reduce(lambda a, b: a* b, range(1, n+1))"
   ]
  },
  {
   "cell_type": "code",
   "execution_count": 45,
   "metadata": {},
   "outputs": [
    {
     "name": "stdout",
     "output_type": "stream",
     "text": [
      "n = 5\n",
      "----------------------------------------\n",
      "log     2\n",
      "linear  5\n",
      "n log n 11\n",
      "n^2     25\n",
      "n^3     125\n",
      "e^n     148\n",
      "n!      120\n",
      "\n",
      "n = 20\n",
      "----------------------------------------\n",
      "log     4\n",
      "linear  20\n",
      "n log n 86\n",
      "n^2     400\n",
      "n^3     8000\n",
      "e^n     485165195\n",
      "n!      2432902008176640000\n",
      "\n",
      "n = 50\n",
      "----------------------------------------\n",
      "log     5\n",
      "linear  50\n",
      "n log n 282\n",
      "n^2     2500\n",
      "n^3     125000\n",
      "e^n     5184705528587072045056\n",
      "n!      30414093201713378043612608166064768844377641568960512000000000000\n",
      "\n"
     ]
    }
   ],
   "source": [
    "for n in (5, 20, 50):\n",
    "    print('n =', n)\n",
    "    print('-'*40)\n",
    "    print('log    ', int(np.log2(n)))\n",
    "    print('linear ', n)\n",
    "    print('n log n', int(n*np.log2(n)))\n",
    "    print('n^2    ', n**2)\n",
    "    print('n^3    ', n**3)\n",
    "    print('e^n    ', int(np.exp(n)))\n",
    "    print('n!     ', factorial(n))\n",
    "    print()"
   ]
  },
  {
   "cell_type": "markdown",
   "metadata": {},
   "source": [
    "#### Example"
   ]
  },
  {
   "cell_type": "markdown",
   "metadata": {},
   "source": [
    "If you have to search a sequence container repeatedly, it is more efficient to first sort, then use a bisection algorithm.\n",
    "\n",
    "- Initial sort takes $n \\log n$ time\n",
    "- Subsequent searches takes $\\log n$\n",
    "- Total time is $n \\log n + k \\log n$ versus $k \\times n/2$"
   ]
  },
  {
   "cell_type": "code",
   "execution_count": 46,
   "metadata": {},
   "outputs": [],
   "source": [
    "testx = np.random.randint(0, 2*n, 1000)"
   ]
  },
  {
   "cell_type": "code",
   "execution_count": 47,
   "metadata": {},
   "outputs": [
    {
     "name": "stdout",
     "output_type": "stream",
     "text": [
      "1000\n",
      "CPU times: user 8.5 ms, sys: 496 µs, total: 8.99 ms\n",
      "Wall time: 8.66 ms\n"
     ]
    }
   ],
   "source": [
    "%%time\n",
    "\n",
    "n = 10000\n",
    "xs  = list(range(n))\n",
    "hits = 0\n",
    "for x in testx:\n",
    "    if x in xs:\n",
    "        hits += 1\n",
    "print(hits)"
   ]
  },
  {
   "cell_type": "code",
   "execution_count": 48,
   "metadata": {},
   "outputs": [],
   "source": [
    "import bisect"
   ]
  },
  {
   "cell_type": "code",
   "execution_count": 49,
   "metadata": {},
   "outputs": [
    {
     "name": "stdout",
     "output_type": "stream",
     "text": [
      "1000\n",
      "CPU times: user 3.68 ms, sys: 688 µs, total: 4.37 ms\n",
      "Wall time: 3.87 ms\n"
     ]
    }
   ],
   "source": [
    "%%time\n",
    "\n",
    "n = 10000\n",
    "xs  = list(range(n))\n",
    "xs.sort()\n",
    "hits = 0\n",
    "for x in testx:\n",
    "    if bisect.bisect(xs, x) != n:\n",
    "        hits += 1\n",
    "print(hits)"
   ]
  },
  {
   "cell_type": "code",
   "execution_count": null,
   "metadata": {},
   "outputs": [],
   "source": []
  },
  {
   "cell_type": "markdown",
   "metadata": {},
   "source": [
    "### Recursion\n",
    "\n",
    "You should know how to code recursive functions. You should also be aware of how inefficient they are, and how you can use memoization (cahceing) to speed up some recursive functions (e.g. using `functools.lrucache`). Try to implement the following simple recursive functions."
   ]
  },
  {
   "cell_type": "code",
   "execution_count": 50,
   "metadata": {},
   "outputs": [],
   "source": [
    "def rfac(n):\n",
    "    \"\"\"Find the nth factorail recursively.\"\"\""
   ]
  },
  {
   "cell_type": "code",
   "execution_count": 51,
   "metadata": {},
   "outputs": [],
   "source": [
    "def rsum(xs):\n",
    "    \"\"\"Sum the values in xs recursively.\"\"\""
   ]
  },
  {
   "cell_type": "code",
   "execution_count": 52,
   "metadata": {},
   "outputs": [],
   "source": [
    "def rfib(n):\n",
    "    \"\"\"Find the nth Fibonaccci number recursively.\"\"\""
   ]
  },
  {
   "cell_type": "code",
   "execution_count": 53,
   "metadata": {},
   "outputs": [],
   "source": [
    "def rmap(f, xs):\n",
    "    \"\"\"Implement a map function recursively. \n",
    "    \n",
    "    f is a function that takes a single argument\n",
    "    xs is a list.\"\"\""
   ]
  },
  {
   "cell_type": "markdown",
   "metadata": {},
   "source": [
    "What is the Big O complexity of `rfac` with and without cacheing?"
   ]
  },
  {
   "cell_type": "code",
   "execution_count": null,
   "metadata": {},
   "outputs": [],
   "source": []
  },
  {
   "cell_type": "markdown",
   "metadata": {},
   "source": [
    "### Sorting algorithms\n",
    "\n",
    "Generally, use the sort function provided by the language (e.g. `sort`, `sorteed`). However sort functions are useful to illustrate algorithmic concepts such as in-place editing, recursion and algorithmic complexity, and you should know how to write simple sort functions.\n",
    "\n",
    "- How much memory does the sort use?\n",
    "- What is its big O complexity class?\n",
    "- Is it iterative or recursive? (note - all recursive algorithm have an iterative equivalent, but some (e.g. quicksort) are easier to think of in a recursive way."
   ]
  },
  {
   "cell_type": "markdown",
   "metadata": {},
   "source": [
    "#### Bubble sort"
   ]
  },
  {
   "cell_type": "code",
   "execution_count": 54,
   "metadata": {},
   "outputs": [],
   "source": [
    "def bubblesort(xs):\n",
    "    \"\"\"Bubble sort.\"\"\"\n",
    "    \n",
    "    n = len(xs)\n",
    "    for i in range(n):\n",
    "        print(xs)\n",
    "        for j in range(i+1, n):\n",
    "            if xs[i] > xs[j]:\n",
    "                xs[i], xs[j] = xs[j], xs[i]"
   ]
  },
  {
   "cell_type": "code",
   "execution_count": 55,
   "metadata": {},
   "outputs": [
    {
     "name": "stdout",
     "output_type": "stream",
     "text": [
      "[5, 1, 3, 4, 2]\n",
      "[1, 5, 3, 4, 2]\n",
      "[1, 2, 5, 4, 3]\n",
      "[1, 2, 3, 5, 4]\n",
      "[1, 2, 3, 4, 5]\n"
     ]
    },
    {
     "data": {
      "text/plain": [
       "[1, 2, 3, 4, 5]"
      ]
     },
     "execution_count": 55,
     "metadata": {},
     "output_type": "execute_result"
    }
   ],
   "source": [
    "xs = [5,1,3,4,2]\n",
    "bubblesort(xs)\n",
    "xs"
   ]
  },
  {
   "cell_type": "markdown",
   "metadata": {},
   "source": [
    "#### Selection sort"
   ]
  },
  {
   "cell_type": "code",
   "execution_count": 56,
   "metadata": {},
   "outputs": [],
   "source": [
    "def selectionsort(xs):\n",
    "    \"\"\"Selection sort.\"\"\"\n",
    "    \n",
    "    n = len(xs)\n",
    "    for i in range(n):\n",
    "        best = xs[i]\n",
    "        idx = i\n",
    "        print(xs)\n",
    "        for j in range(i+1, n):\n",
    "            if xs[j] < best:\n",
    "                best = xs[j]\n",
    "                idx = j\n",
    "        xs[i], xs[idx] = xs[idx], xs[i]"
   ]
  },
  {
   "cell_type": "code",
   "execution_count": 57,
   "metadata": {},
   "outputs": [
    {
     "name": "stdout",
     "output_type": "stream",
     "text": [
      "[5, 1, 3, 4, 2]\n",
      "[1, 5, 3, 4, 2]\n",
      "[1, 2, 3, 4, 5]\n",
      "[1, 2, 3, 4, 5]\n",
      "[1, 2, 3, 4, 5]\n"
     ]
    },
    {
     "data": {
      "text/plain": [
       "[1, 2, 3, 4, 5]"
      ]
     },
     "execution_count": 57,
     "metadata": {},
     "output_type": "execute_result"
    }
   ],
   "source": [
    "xs = [5,1,3,4,2]\n",
    "selectionsort(xs)\n",
    "xs"
   ]
  },
  {
   "cell_type": "markdown",
   "metadata": {},
   "source": [
    "#### Quicksort"
   ]
  },
  {
   "cell_type": "code",
   "execution_count": 58,
   "metadata": {},
   "outputs": [],
   "source": [
    "def quicksort(xs):\n",
    "    \"\"\"Quicksort.\"\"\"\n",
    "    \n",
    "    if len(xs) < 2:\n",
    "        return xs\n",
    "    else:\n",
    "        pivot = xs[0]\n",
    "        left = [x for x in xs[1:] if x <= pivot]\n",
    "        right = [x for x in xs[1:] if x > pivot]\n",
    "        print(pivot, left, right)\n",
    "        return quicksort(left) + [pivot] + quicksort(right)"
   ]
  },
  {
   "cell_type": "code",
   "execution_count": 59,
   "metadata": {},
   "outputs": [
    {
     "name": "stdout",
     "output_type": "stream",
     "text": [
      "5 [1, 3, 4, 2] []\n",
      "1 [] [3, 4, 2]\n",
      "3 [2] [4]\n"
     ]
    },
    {
     "data": {
      "text/plain": [
       "[1, 2, 3, 4, 5]"
      ]
     },
     "execution_count": 59,
     "metadata": {},
     "output_type": "execute_result"
    }
   ],
   "source": [
    "xs = [5,1,3,4,2]\n",
    "quicksort(xs)"
   ]
  },
  {
   "cell_type": "markdown",
   "metadata": {},
   "source": [
    "## Memory usage"
   ]
  },
  {
   "cell_type": "code",
   "execution_count": 60,
   "metadata": {},
   "outputs": [],
   "source": [
    "import sys"
   ]
  },
  {
   "cell_type": "code",
   "execution_count": 61,
   "metadata": {},
   "outputs": [],
   "source": [
    "xs = np.random.randint(0, 10, (100,100))"
   ]
  },
  {
   "cell_type": "code",
   "execution_count": 62,
   "metadata": {},
   "outputs": [
    {
     "data": {
      "text/plain": [
       "80112"
      ]
     },
     "execution_count": 62,
     "metadata": {},
     "output_type": "execute_result"
    }
   ],
   "source": [
    "sys.getsizeof(xs)"
   ]
  },
  {
   "cell_type": "code",
   "execution_count": 63,
   "metadata": {},
   "outputs": [
    {
     "data": {
      "text/plain": [
       "80000"
      ]
     },
     "execution_count": 63,
     "metadata": {},
     "output_type": "execute_result"
    }
   ],
   "source": [
    "xs.nbytes"
   ]
  },
  {
   "cell_type": "markdown",
   "metadata": {},
   "source": [
    "## Timing"
   ]
  },
  {
   "cell_type": "code",
   "execution_count": 64,
   "metadata": {},
   "outputs": [],
   "source": [
    "from time import sleep"
   ]
  },
  {
   "cell_type": "code",
   "execution_count": 65,
   "metadata": {},
   "outputs": [
    {
     "name": "stdout",
     "output_type": "stream",
     "text": [
      "CPU times: user 8.4 ms, sys: 2.76 ms, total: 11.2 ms\n",
      "Wall time: 104 ms\n"
     ]
    }
   ],
   "source": [
    "%time sleep(0.1)"
   ]
  },
  {
   "cell_type": "code",
   "execution_count": 66,
   "metadata": {},
   "outputs": [
    {
     "name": "stdout",
     "output_type": "stream",
     "text": [
      "CPU times: user 1.29 ms, sys: 1.25 ms, total: 2.54 ms\n",
      "Wall time: 101 ms\n"
     ]
    }
   ],
   "source": [
    "%%time\n",
    "\n",
    "sleep(0.1)"
   ]
  },
  {
   "cell_type": "code",
   "execution_count": 67,
   "metadata": {},
   "outputs": [
    {
     "name": "stdout",
     "output_type": "stream",
     "text": [
      "102 ms ± 702 µs per loop (mean ± std. dev. of 7 runs, 10 loops each)\n"
     ]
    }
   ],
   "source": [
    "%timeit sleep(0.1)"
   ]
  },
  {
   "cell_type": "code",
   "execution_count": 68,
   "metadata": {},
   "outputs": [
    {
     "name": "stdout",
     "output_type": "stream",
     "text": [
      "103 ms ± 673 µs per loop (mean ± std. dev. of 3 runs, 10 loops each)\n"
     ]
    }
   ],
   "source": [
    "%timeit -r 3 -n 10 sleep(0.1)"
   ]
  },
  {
   "cell_type": "code",
   "execution_count": 69,
   "metadata": {},
   "outputs": [],
   "source": [
    "from timeit import timeit"
   ]
  },
  {
   "cell_type": "code",
   "execution_count": 70,
   "metadata": {},
   "outputs": [
    {
     "data": {
      "text/plain": [
       "0.1012009109999994"
      ]
     },
     "execution_count": 70,
     "metadata": {},
     "output_type": "execute_result"
    }
   ],
   "source": [
    "t = timeit('from time import sleep; sleep(0.1)', number=1)\n",
    "t"
   ]
  },
  {
   "cell_type": "code",
   "execution_count": 71,
   "metadata": {},
   "outputs": [
    {
     "data": {
      "text/plain": [
       "0.10307493699999881"
      ]
     },
     "execution_count": 71,
     "metadata": {},
     "output_type": "execute_result"
    }
   ],
   "source": [
    "t = timeit(lambda: sleep(0.1), number=1)\n",
    "t"
   ]
  }
 ],
 "metadata": {
  "kernelspec": {
   "display_name": "Python 3",
   "language": "python",
   "name": "python3"
  },
  "language_info": {
   "codemirror_mode": {
    "name": "ipython",
    "version": 3
   },
   "file_extension": ".py",
   "mimetype": "text/x-python",
   "name": "python",
   "nbconvert_exporter": "python",
   "pygments_lexer": "ipython3",
   "version": "3.7.0"
  }
 },
 "nbformat": 4,
 "nbformat_minor": 2
}
